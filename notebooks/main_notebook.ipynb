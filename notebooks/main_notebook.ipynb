{
 "cells": [
  {
   "cell_type": "code",
   "execution_count": 345,
   "metadata": {
    "collapsed": true
   },
   "outputs": [],
   "source": [
    "import pandas as pd\n",
    "from sklearn import preprocessing"
   ]
  },
  {
   "cell_type": "code",
   "execution_count": 346,
   "outputs": [
    {
     "data": {
      "text/plain": "              date city_name  store_id  category_id  product_id  price  \\\nid                                                                       \n1       2021-07-29    Москва         1            1           1   4.79   \n2       2021-07-30    Москва         1            1           1   4.79   \n3       2021-07-31    Москва         1            1           1   4.79   \n4       2021-08-01    Москва         1            1           1   4.79   \n5       2021-08-02    Москва         1            1           1   4.79   \n...            ...       ...       ...          ...         ...    ...   \n666672  2022-02-09   Воронеж       164            1          35   2.48   \n666673  2022-02-10   Воронеж       164            1          35   2.48   \n666674  2022-02-11   Воронеж       164            1          35   2.48   \n666675  2022-02-12   Воронеж       164            1          35   2.48   \n666676  2022-02-13   Воронеж       164            1          35   2.48   \n\n                                   weather_desc  humidity  temperature  \\\nid                                                                       \n1        переменная облачность, небольшой дождь   61.9375      23.1875   \n2        переменная облачность, небольшой дождь   70.2500      22.1875   \n3                         переменная облачность   52.6250      21.8125   \n4                      облачно, небольшой дождь   87.4375      20.0625   \n5                         переменная облачность   66.1875      23.4375   \n...                                         ...       ...          ...   \n666672                  облачно, небольшой снег   89.1250      -4.3125   \n666673                облачно, небольшие осадки   92.5625      -0.9375   \n666674                                   осадки   99.6875      -0.3125   \n666675  переменная облачность, небольшие осадки   91.8750      -2.2500   \n666676                    переменная облачность   85.9375      -4.8750   \n\n        pressure  sales  test_id  \nid                                \n1       741.0000     26        1  \n2       740.3125     37        2  \n3       741.6250     25        3  \n4       743.3125     26        4  \n5       739.6250     22        5  \n...          ...    ...      ...  \n666672  744.6875     11   666672  \n666673  746.3125     17   666673  \n666674  745.3125      2   666674  \n666675  749.9375      7   666675  \n666676  755.3125     18   666676  \n\n[666676 rows x 12 columns]",
      "text/html": "<div>\n<style scoped>\n    .dataframe tbody tr th:only-of-type {\n        vertical-align: middle;\n    }\n\n    .dataframe tbody tr th {\n        vertical-align: top;\n    }\n\n    .dataframe thead th {\n        text-align: right;\n    }\n</style>\n<table border=\"1\" class=\"dataframe\">\n  <thead>\n    <tr style=\"text-align: right;\">\n      <th></th>\n      <th>date</th>\n      <th>city_name</th>\n      <th>store_id</th>\n      <th>category_id</th>\n      <th>product_id</th>\n      <th>price</th>\n      <th>weather_desc</th>\n      <th>humidity</th>\n      <th>temperature</th>\n      <th>pressure</th>\n      <th>sales</th>\n      <th>test_id</th>\n    </tr>\n    <tr>\n      <th>id</th>\n      <th></th>\n      <th></th>\n      <th></th>\n      <th></th>\n      <th></th>\n      <th></th>\n      <th></th>\n      <th></th>\n      <th></th>\n      <th></th>\n      <th></th>\n      <th></th>\n    </tr>\n  </thead>\n  <tbody>\n    <tr>\n      <th>1</th>\n      <td>2021-07-29</td>\n      <td>Москва</td>\n      <td>1</td>\n      <td>1</td>\n      <td>1</td>\n      <td>4.79</td>\n      <td>переменная облачность, небольшой дождь</td>\n      <td>61.9375</td>\n      <td>23.1875</td>\n      <td>741.0000</td>\n      <td>26</td>\n      <td>1</td>\n    </tr>\n    <tr>\n      <th>2</th>\n      <td>2021-07-30</td>\n      <td>Москва</td>\n      <td>1</td>\n      <td>1</td>\n      <td>1</td>\n      <td>4.79</td>\n      <td>переменная облачность, небольшой дождь</td>\n      <td>70.2500</td>\n      <td>22.1875</td>\n      <td>740.3125</td>\n      <td>37</td>\n      <td>2</td>\n    </tr>\n    <tr>\n      <th>3</th>\n      <td>2021-07-31</td>\n      <td>Москва</td>\n      <td>1</td>\n      <td>1</td>\n      <td>1</td>\n      <td>4.79</td>\n      <td>переменная облачность</td>\n      <td>52.6250</td>\n      <td>21.8125</td>\n      <td>741.6250</td>\n      <td>25</td>\n      <td>3</td>\n    </tr>\n    <tr>\n      <th>4</th>\n      <td>2021-08-01</td>\n      <td>Москва</td>\n      <td>1</td>\n      <td>1</td>\n      <td>1</td>\n      <td>4.79</td>\n      <td>облачно, небольшой дождь</td>\n      <td>87.4375</td>\n      <td>20.0625</td>\n      <td>743.3125</td>\n      <td>26</td>\n      <td>4</td>\n    </tr>\n    <tr>\n      <th>5</th>\n      <td>2021-08-02</td>\n      <td>Москва</td>\n      <td>1</td>\n      <td>1</td>\n      <td>1</td>\n      <td>4.79</td>\n      <td>переменная облачность</td>\n      <td>66.1875</td>\n      <td>23.4375</td>\n      <td>739.6250</td>\n      <td>22</td>\n      <td>5</td>\n    </tr>\n    <tr>\n      <th>...</th>\n      <td>...</td>\n      <td>...</td>\n      <td>...</td>\n      <td>...</td>\n      <td>...</td>\n      <td>...</td>\n      <td>...</td>\n      <td>...</td>\n      <td>...</td>\n      <td>...</td>\n      <td>...</td>\n      <td>...</td>\n    </tr>\n    <tr>\n      <th>666672</th>\n      <td>2022-02-09</td>\n      <td>Воронеж</td>\n      <td>164</td>\n      <td>1</td>\n      <td>35</td>\n      <td>2.48</td>\n      <td>облачно, небольшой снег</td>\n      <td>89.1250</td>\n      <td>-4.3125</td>\n      <td>744.6875</td>\n      <td>11</td>\n      <td>666672</td>\n    </tr>\n    <tr>\n      <th>666673</th>\n      <td>2022-02-10</td>\n      <td>Воронеж</td>\n      <td>164</td>\n      <td>1</td>\n      <td>35</td>\n      <td>2.48</td>\n      <td>облачно, небольшие осадки</td>\n      <td>92.5625</td>\n      <td>-0.9375</td>\n      <td>746.3125</td>\n      <td>17</td>\n      <td>666673</td>\n    </tr>\n    <tr>\n      <th>666674</th>\n      <td>2022-02-11</td>\n      <td>Воронеж</td>\n      <td>164</td>\n      <td>1</td>\n      <td>35</td>\n      <td>2.48</td>\n      <td>осадки</td>\n      <td>99.6875</td>\n      <td>-0.3125</td>\n      <td>745.3125</td>\n      <td>2</td>\n      <td>666674</td>\n    </tr>\n    <tr>\n      <th>666675</th>\n      <td>2022-02-12</td>\n      <td>Воронеж</td>\n      <td>164</td>\n      <td>1</td>\n      <td>35</td>\n      <td>2.48</td>\n      <td>переменная облачность, небольшие осадки</td>\n      <td>91.8750</td>\n      <td>-2.2500</td>\n      <td>749.9375</td>\n      <td>7</td>\n      <td>666675</td>\n    </tr>\n    <tr>\n      <th>666676</th>\n      <td>2022-02-13</td>\n      <td>Воронеж</td>\n      <td>164</td>\n      <td>1</td>\n      <td>35</td>\n      <td>2.48</td>\n      <td>переменная облачность</td>\n      <td>85.9375</td>\n      <td>-4.8750</td>\n      <td>755.3125</td>\n      <td>18</td>\n      <td>666676</td>\n    </tr>\n  </tbody>\n</table>\n<p>666676 rows × 12 columns</p>\n</div>"
     },
     "execution_count": 346,
     "metadata": {},
     "output_type": "execute_result"
    }
   ],
   "source": [
    "train_df_original = pd.read_csv(\"../data/train.csv\", index_col=0)\n",
    "train_df_original[\"test_id\"] = train_df_original.index\n",
    "train_df_original"
   ],
   "metadata": {
    "collapsed": false,
    "pycharm": {
     "name": "#%%\n"
    }
   }
  },
  {
   "cell_type": "code",
   "execution_count": 347,
   "outputs": [
    {
     "data": {
      "text/plain": "              date city_name  store_id  category_id  product_id  price  \\\nid                                                                       \n666677  2022-02-14    Москва         1            1           1   4.79   \n666678  2022-02-15    Москва         1            1           1   4.79   \n666679  2022-02-16    Москва         1            1           1   4.79   \n666680  2022-02-17    Москва         1            1           1   4.79   \n666681  2022-02-18    Москва         1            1           1   4.79   \n...            ...       ...       ...          ...         ...    ...   \n691508  2022-02-16   Воронеж       164            1          35   2.48   \n691509  2022-02-17   Воронеж       164            1          35   2.48   \n691510  2022-02-18   Воронеж       164            1          35   2.48   \n691511  2022-02-19   Воронеж       164            1          35   2.48   \n691512  2022-02-20   Воронеж       164            1          35   2.48   \n\n                     weather_desc  humidity  temperature  pressure  sales  \\\nid                                                                          \n666677                    облачно   87.3125      -1.9375  749.3125   22.0   \n666678      переменная облачность   88.7500      -1.2500  752.6875   27.0   \n666679      переменная облачность   90.3750      -1.5625  746.3125   26.0   \n666680   облачно, небольшой дождь   98.0000       1.7500  732.6875   24.0   \n666681  облачно, небольшие осадки   95.5000       1.3750  733.0000   42.0   \n...                           ...       ...          ...       ...    ...   \n691508      переменная облачность   91.8125      -2.5625  751.0000   11.0   \n691509   облачно, небольшой дождь   93.5000       2.0625  740.0000   17.0   \n691510                    облачно   96.5625       2.0625  736.0000    2.0   \n691511      переменная облачность   89.9375       2.7500  743.0000    7.0   \n691512      переменная облачность   76.2500       3.4375  742.3750   18.0   \n\n        test_id  \nid               \n666677   666677  \n666678   666678  \n666679   666679  \n666680   666680  \n666681   666681  \n...         ...  \n691508   691508  \n691509   691509  \n691510   691510  \n691511   691511  \n691512   691512  \n\n[24836 rows x 12 columns]",
      "text/html": "<div>\n<style scoped>\n    .dataframe tbody tr th:only-of-type {\n        vertical-align: middle;\n    }\n\n    .dataframe tbody tr th {\n        vertical-align: top;\n    }\n\n    .dataframe thead th {\n        text-align: right;\n    }\n</style>\n<table border=\"1\" class=\"dataframe\">\n  <thead>\n    <tr style=\"text-align: right;\">\n      <th></th>\n      <th>date</th>\n      <th>city_name</th>\n      <th>store_id</th>\n      <th>category_id</th>\n      <th>product_id</th>\n      <th>price</th>\n      <th>weather_desc</th>\n      <th>humidity</th>\n      <th>temperature</th>\n      <th>pressure</th>\n      <th>sales</th>\n      <th>test_id</th>\n    </tr>\n    <tr>\n      <th>id</th>\n      <th></th>\n      <th></th>\n      <th></th>\n      <th></th>\n      <th></th>\n      <th></th>\n      <th></th>\n      <th></th>\n      <th></th>\n      <th></th>\n      <th></th>\n      <th></th>\n    </tr>\n  </thead>\n  <tbody>\n    <tr>\n      <th>666677</th>\n      <td>2022-02-14</td>\n      <td>Москва</td>\n      <td>1</td>\n      <td>1</td>\n      <td>1</td>\n      <td>4.79</td>\n      <td>облачно</td>\n      <td>87.3125</td>\n      <td>-1.9375</td>\n      <td>749.3125</td>\n      <td>22.0</td>\n      <td>666677</td>\n    </tr>\n    <tr>\n      <th>666678</th>\n      <td>2022-02-15</td>\n      <td>Москва</td>\n      <td>1</td>\n      <td>1</td>\n      <td>1</td>\n      <td>4.79</td>\n      <td>переменная облачность</td>\n      <td>88.7500</td>\n      <td>-1.2500</td>\n      <td>752.6875</td>\n      <td>27.0</td>\n      <td>666678</td>\n    </tr>\n    <tr>\n      <th>666679</th>\n      <td>2022-02-16</td>\n      <td>Москва</td>\n      <td>1</td>\n      <td>1</td>\n      <td>1</td>\n      <td>4.79</td>\n      <td>переменная облачность</td>\n      <td>90.3750</td>\n      <td>-1.5625</td>\n      <td>746.3125</td>\n      <td>26.0</td>\n      <td>666679</td>\n    </tr>\n    <tr>\n      <th>666680</th>\n      <td>2022-02-17</td>\n      <td>Москва</td>\n      <td>1</td>\n      <td>1</td>\n      <td>1</td>\n      <td>4.79</td>\n      <td>облачно, небольшой дождь</td>\n      <td>98.0000</td>\n      <td>1.7500</td>\n      <td>732.6875</td>\n      <td>24.0</td>\n      <td>666680</td>\n    </tr>\n    <tr>\n      <th>666681</th>\n      <td>2022-02-18</td>\n      <td>Москва</td>\n      <td>1</td>\n      <td>1</td>\n      <td>1</td>\n      <td>4.79</td>\n      <td>облачно, небольшие осадки</td>\n      <td>95.5000</td>\n      <td>1.3750</td>\n      <td>733.0000</td>\n      <td>42.0</td>\n      <td>666681</td>\n    </tr>\n    <tr>\n      <th>...</th>\n      <td>...</td>\n      <td>...</td>\n      <td>...</td>\n      <td>...</td>\n      <td>...</td>\n      <td>...</td>\n      <td>...</td>\n      <td>...</td>\n      <td>...</td>\n      <td>...</td>\n      <td>...</td>\n      <td>...</td>\n    </tr>\n    <tr>\n      <th>691508</th>\n      <td>2022-02-16</td>\n      <td>Воронеж</td>\n      <td>164</td>\n      <td>1</td>\n      <td>35</td>\n      <td>2.48</td>\n      <td>переменная облачность</td>\n      <td>91.8125</td>\n      <td>-2.5625</td>\n      <td>751.0000</td>\n      <td>11.0</td>\n      <td>691508</td>\n    </tr>\n    <tr>\n      <th>691509</th>\n      <td>2022-02-17</td>\n      <td>Воронеж</td>\n      <td>164</td>\n      <td>1</td>\n      <td>35</td>\n      <td>2.48</td>\n      <td>облачно, небольшой дождь</td>\n      <td>93.5000</td>\n      <td>2.0625</td>\n      <td>740.0000</td>\n      <td>17.0</td>\n      <td>691509</td>\n    </tr>\n    <tr>\n      <th>691510</th>\n      <td>2022-02-18</td>\n      <td>Воронеж</td>\n      <td>164</td>\n      <td>1</td>\n      <td>35</td>\n      <td>2.48</td>\n      <td>облачно</td>\n      <td>96.5625</td>\n      <td>2.0625</td>\n      <td>736.0000</td>\n      <td>2.0</td>\n      <td>691510</td>\n    </tr>\n    <tr>\n      <th>691511</th>\n      <td>2022-02-19</td>\n      <td>Воронеж</td>\n      <td>164</td>\n      <td>1</td>\n      <td>35</td>\n      <td>2.48</td>\n      <td>переменная облачность</td>\n      <td>89.9375</td>\n      <td>2.7500</td>\n      <td>743.0000</td>\n      <td>7.0</td>\n      <td>691511</td>\n    </tr>\n    <tr>\n      <th>691512</th>\n      <td>2022-02-20</td>\n      <td>Воронеж</td>\n      <td>164</td>\n      <td>1</td>\n      <td>35</td>\n      <td>2.48</td>\n      <td>переменная облачность</td>\n      <td>76.2500</td>\n      <td>3.4375</td>\n      <td>742.3750</td>\n      <td>18.0</td>\n      <td>691512</td>\n    </tr>\n  </tbody>\n</table>\n<p>24836 rows × 12 columns</p>\n</div>"
     },
     "execution_count": 347,
     "metadata": {},
     "output_type": "execute_result"
    }
   ],
   "source": [
    "test_df_original = pd.read_csv(\"../test_sources/test.csv\", index_col=0)\n",
    "sample_result_df_original = pd.read_csv(\"../test_sources/sample_submission.csv\", index_col=0)\n",
    "test_df_original[\"sales\"] = sample_result_df_original[\"prediction\"]\n",
    "test_df_original[\"test_id\"] = test_df_original.index\n",
    "test_df_original"
   ],
   "metadata": {
    "collapsed": false,
    "pycharm": {
     "name": "#%%\n"
    }
   }
  },
  {
   "cell_type": "code",
   "execution_count": 348,
   "outputs": [
    {
     "data": {
      "text/plain": "              date  city_name  store_id  category_id  product_id  price  \\\nid                                                                        \n1       2021-07-29          5         1            1           1   4.79   \n2       2021-07-30          5         1            1           1   4.79   \n3       2021-07-31          5         1            1           1   4.79   \n4       2021-08-01          5         1            1           1   4.79   \n5       2021-08-02          5         1            1           1   4.79   \n...            ...        ...       ...          ...         ...    ...   \n691508  2022-02-16          1       164            1          35   2.48   \n691509  2022-02-17          1       164            1          35   2.48   \n691510  2022-02-18          1       164            1          35   2.48   \n691511  2022-02-19          1       164            1          35   2.48   \n691512  2022-02-20          1       164            1          35   2.48   \n\n        weather_desc  humidity  temperature  pressure  sales  test_id   type  \nid                                                                            \n1                 12   61.9375      23.1875  741.0000   26.0        1  train  \n2                 12   70.2500      22.1875  740.3125   37.0        2  train  \n3                  9   52.6250      21.8125  741.6250   25.0        3  train  \n4                  6   87.4375      20.0625  743.3125   26.0        4  train  \n5                  9   66.1875      23.4375  739.6250   22.0        5  train  \n...              ...       ...          ...       ...    ...      ...    ...  \n691508             9   91.8125      -2.5625  751.0000   11.0   691508   test  \n691509             6   93.5000       2.0625  740.0000   17.0   691509   test  \n691510             3   96.5625       2.0625  736.0000    2.0   691510   test  \n691511             9   89.9375       2.7500  743.0000    7.0   691511   test  \n691512             9   76.2500       3.4375  742.3750   18.0   691512   test  \n\n[691512 rows x 13 columns]",
      "text/html": "<div>\n<style scoped>\n    .dataframe tbody tr th:only-of-type {\n        vertical-align: middle;\n    }\n\n    .dataframe tbody tr th {\n        vertical-align: top;\n    }\n\n    .dataframe thead th {\n        text-align: right;\n    }\n</style>\n<table border=\"1\" class=\"dataframe\">\n  <thead>\n    <tr style=\"text-align: right;\">\n      <th></th>\n      <th>date</th>\n      <th>city_name</th>\n      <th>store_id</th>\n      <th>category_id</th>\n      <th>product_id</th>\n      <th>price</th>\n      <th>weather_desc</th>\n      <th>humidity</th>\n      <th>temperature</th>\n      <th>pressure</th>\n      <th>sales</th>\n      <th>test_id</th>\n      <th>type</th>\n    </tr>\n    <tr>\n      <th>id</th>\n      <th></th>\n      <th></th>\n      <th></th>\n      <th></th>\n      <th></th>\n      <th></th>\n      <th></th>\n      <th></th>\n      <th></th>\n      <th></th>\n      <th></th>\n      <th></th>\n      <th></th>\n    </tr>\n  </thead>\n  <tbody>\n    <tr>\n      <th>1</th>\n      <td>2021-07-29</td>\n      <td>5</td>\n      <td>1</td>\n      <td>1</td>\n      <td>1</td>\n      <td>4.79</td>\n      <td>12</td>\n      <td>61.9375</td>\n      <td>23.1875</td>\n      <td>741.0000</td>\n      <td>26.0</td>\n      <td>1</td>\n      <td>train</td>\n    </tr>\n    <tr>\n      <th>2</th>\n      <td>2021-07-30</td>\n      <td>5</td>\n      <td>1</td>\n      <td>1</td>\n      <td>1</td>\n      <td>4.79</td>\n      <td>12</td>\n      <td>70.2500</td>\n      <td>22.1875</td>\n      <td>740.3125</td>\n      <td>37.0</td>\n      <td>2</td>\n      <td>train</td>\n    </tr>\n    <tr>\n      <th>3</th>\n      <td>2021-07-31</td>\n      <td>5</td>\n      <td>1</td>\n      <td>1</td>\n      <td>1</td>\n      <td>4.79</td>\n      <td>9</td>\n      <td>52.6250</td>\n      <td>21.8125</td>\n      <td>741.6250</td>\n      <td>25.0</td>\n      <td>3</td>\n      <td>train</td>\n    </tr>\n    <tr>\n      <th>4</th>\n      <td>2021-08-01</td>\n      <td>5</td>\n      <td>1</td>\n      <td>1</td>\n      <td>1</td>\n      <td>4.79</td>\n      <td>6</td>\n      <td>87.4375</td>\n      <td>20.0625</td>\n      <td>743.3125</td>\n      <td>26.0</td>\n      <td>4</td>\n      <td>train</td>\n    </tr>\n    <tr>\n      <th>5</th>\n      <td>2021-08-02</td>\n      <td>5</td>\n      <td>1</td>\n      <td>1</td>\n      <td>1</td>\n      <td>4.79</td>\n      <td>9</td>\n      <td>66.1875</td>\n      <td>23.4375</td>\n      <td>739.6250</td>\n      <td>22.0</td>\n      <td>5</td>\n      <td>train</td>\n    </tr>\n    <tr>\n      <th>...</th>\n      <td>...</td>\n      <td>...</td>\n      <td>...</td>\n      <td>...</td>\n      <td>...</td>\n      <td>...</td>\n      <td>...</td>\n      <td>...</td>\n      <td>...</td>\n      <td>...</td>\n      <td>...</td>\n      <td>...</td>\n      <td>...</td>\n    </tr>\n    <tr>\n      <th>691508</th>\n      <td>2022-02-16</td>\n      <td>1</td>\n      <td>164</td>\n      <td>1</td>\n      <td>35</td>\n      <td>2.48</td>\n      <td>9</td>\n      <td>91.8125</td>\n      <td>-2.5625</td>\n      <td>751.0000</td>\n      <td>11.0</td>\n      <td>691508</td>\n      <td>test</td>\n    </tr>\n    <tr>\n      <th>691509</th>\n      <td>2022-02-17</td>\n      <td>1</td>\n      <td>164</td>\n      <td>1</td>\n      <td>35</td>\n      <td>2.48</td>\n      <td>6</td>\n      <td>93.5000</td>\n      <td>2.0625</td>\n      <td>740.0000</td>\n      <td>17.0</td>\n      <td>691509</td>\n      <td>test</td>\n    </tr>\n    <tr>\n      <th>691510</th>\n      <td>2022-02-18</td>\n      <td>1</td>\n      <td>164</td>\n      <td>1</td>\n      <td>35</td>\n      <td>2.48</td>\n      <td>3</td>\n      <td>96.5625</td>\n      <td>2.0625</td>\n      <td>736.0000</td>\n      <td>2.0</td>\n      <td>691510</td>\n      <td>test</td>\n    </tr>\n    <tr>\n      <th>691511</th>\n      <td>2022-02-19</td>\n      <td>1</td>\n      <td>164</td>\n      <td>1</td>\n      <td>35</td>\n      <td>2.48</td>\n      <td>9</td>\n      <td>89.9375</td>\n      <td>2.7500</td>\n      <td>743.0000</td>\n      <td>7.0</td>\n      <td>691511</td>\n      <td>test</td>\n    </tr>\n    <tr>\n      <th>691512</th>\n      <td>2022-02-20</td>\n      <td>1</td>\n      <td>164</td>\n      <td>1</td>\n      <td>35</td>\n      <td>2.48</td>\n      <td>9</td>\n      <td>76.2500</td>\n      <td>3.4375</td>\n      <td>742.3750</td>\n      <td>18.0</td>\n      <td>691512</td>\n      <td>test</td>\n    </tr>\n  </tbody>\n</table>\n<p>691512 rows × 13 columns</p>\n</div>"
     },
     "execution_count": 348,
     "metadata": {},
     "output_type": "execute_result"
    }
   ],
   "source": [
    "train_df = train_df_original.copy()\n",
    "#train_df = train_df.iloc[69*3:]\n",
    "train_df[\"type\"] = \"train\"\n",
    "test_df = test_df_original.copy()\n",
    "test_df[\"type\"] = \"test\"\n",
    "df = pd.concat([train_df, test_df])\n",
    "le = preprocessing.LabelEncoder()\n",
    "df['city_name'] = le.fit_transform(df['city_name'])\n",
    "df['weather_desc'] = le.fit_transform(df['weather_desc'])\n",
    "df"
   ],
   "metadata": {
    "collapsed": false,
    "pycharm": {
     "name": "#%%\n"
    }
   }
  },
  {
   "cell_type": "code",
   "execution_count": 349,
   "outputs": [
    {
     "data": {
      "text/plain": "             date  city_name  store_id  category_id  product_id  price  \\\nid                                                                       \n1      2021-07-29          5         1            1           1   4.79   \n2      2021-07-30          5         1            1           1   4.79   \n3      2021-07-31          5         1            1           1   4.79   \n4      2021-08-01          5         1            1           1   4.79   \n5      2021-08-02          5         1            1           1   4.79   \n...           ...        ...       ...          ...         ...    ...   \n691508 2022-02-16          1       164            1          35   2.48   \n691509 2022-02-17          1       164            1          35   2.48   \n691510 2022-02-18          1       164            1          35   2.48   \n691511 2022-02-19          1       164            1          35   2.48   \n691512 2022-02-20          1       164            1          35   2.48   \n\n        weather_desc  humidity  temperature  pressure  sales  test_id   type  \\\nid                                                                             \n1                 12   61.9375      23.1875  741.0000   26.0        1  train   \n2                 12   70.2500      22.1875  740.3125   37.0        2  train   \n3                  9   52.6250      21.8125  741.6250   25.0        3  train   \n4                  6   87.4375      20.0625  743.3125   26.0        4  train   \n5                  9   66.1875      23.4375  739.6250   22.0        5  train   \n...              ...       ...          ...       ...    ...      ...    ...   \n691508             9   91.8125      -2.5625  751.0000   11.0   691508   test   \n691509             6   93.5000       2.0625  740.0000   17.0   691509   test   \n691510             3   96.5625       2.0625  736.0000    2.0   691510   test   \n691511             9   89.9375       2.7500  743.0000    7.0   691511   test   \n691512             9   76.2500       3.4375  742.3750   18.0   691512   test   \n\n        weekday  weekend  \nid                        \n1             3        0  \n2             4        0  \n3             5        1  \n4             6        1  \n5             0        0  \n...         ...      ...  \n691508        2        0  \n691509        3        0  \n691510        4        0  \n691511        5        1  \n691512        6        1  \n\n[691512 rows x 15 columns]",
      "text/html": "<div>\n<style scoped>\n    .dataframe tbody tr th:only-of-type {\n        vertical-align: middle;\n    }\n\n    .dataframe tbody tr th {\n        vertical-align: top;\n    }\n\n    .dataframe thead th {\n        text-align: right;\n    }\n</style>\n<table border=\"1\" class=\"dataframe\">\n  <thead>\n    <tr style=\"text-align: right;\">\n      <th></th>\n      <th>date</th>\n      <th>city_name</th>\n      <th>store_id</th>\n      <th>category_id</th>\n      <th>product_id</th>\n      <th>price</th>\n      <th>weather_desc</th>\n      <th>humidity</th>\n      <th>temperature</th>\n      <th>pressure</th>\n      <th>sales</th>\n      <th>test_id</th>\n      <th>type</th>\n      <th>weekday</th>\n      <th>weekend</th>\n    </tr>\n    <tr>\n      <th>id</th>\n      <th></th>\n      <th></th>\n      <th></th>\n      <th></th>\n      <th></th>\n      <th></th>\n      <th></th>\n      <th></th>\n      <th></th>\n      <th></th>\n      <th></th>\n      <th></th>\n      <th></th>\n      <th></th>\n      <th></th>\n    </tr>\n  </thead>\n  <tbody>\n    <tr>\n      <th>1</th>\n      <td>2021-07-29</td>\n      <td>5</td>\n      <td>1</td>\n      <td>1</td>\n      <td>1</td>\n      <td>4.79</td>\n      <td>12</td>\n      <td>61.9375</td>\n      <td>23.1875</td>\n      <td>741.0000</td>\n      <td>26.0</td>\n      <td>1</td>\n      <td>train</td>\n      <td>3</td>\n      <td>0</td>\n    </tr>\n    <tr>\n      <th>2</th>\n      <td>2021-07-30</td>\n      <td>5</td>\n      <td>1</td>\n      <td>1</td>\n      <td>1</td>\n      <td>4.79</td>\n      <td>12</td>\n      <td>70.2500</td>\n      <td>22.1875</td>\n      <td>740.3125</td>\n      <td>37.0</td>\n      <td>2</td>\n      <td>train</td>\n      <td>4</td>\n      <td>0</td>\n    </tr>\n    <tr>\n      <th>3</th>\n      <td>2021-07-31</td>\n      <td>5</td>\n      <td>1</td>\n      <td>1</td>\n      <td>1</td>\n      <td>4.79</td>\n      <td>9</td>\n      <td>52.6250</td>\n      <td>21.8125</td>\n      <td>741.6250</td>\n      <td>25.0</td>\n      <td>3</td>\n      <td>train</td>\n      <td>5</td>\n      <td>1</td>\n    </tr>\n    <tr>\n      <th>4</th>\n      <td>2021-08-01</td>\n      <td>5</td>\n      <td>1</td>\n      <td>1</td>\n      <td>1</td>\n      <td>4.79</td>\n      <td>6</td>\n      <td>87.4375</td>\n      <td>20.0625</td>\n      <td>743.3125</td>\n      <td>26.0</td>\n      <td>4</td>\n      <td>train</td>\n      <td>6</td>\n      <td>1</td>\n    </tr>\n    <tr>\n      <th>5</th>\n      <td>2021-08-02</td>\n      <td>5</td>\n      <td>1</td>\n      <td>1</td>\n      <td>1</td>\n      <td>4.79</td>\n      <td>9</td>\n      <td>66.1875</td>\n      <td>23.4375</td>\n      <td>739.6250</td>\n      <td>22.0</td>\n      <td>5</td>\n      <td>train</td>\n      <td>0</td>\n      <td>0</td>\n    </tr>\n    <tr>\n      <th>...</th>\n      <td>...</td>\n      <td>...</td>\n      <td>...</td>\n      <td>...</td>\n      <td>...</td>\n      <td>...</td>\n      <td>...</td>\n      <td>...</td>\n      <td>...</td>\n      <td>...</td>\n      <td>...</td>\n      <td>...</td>\n      <td>...</td>\n      <td>...</td>\n      <td>...</td>\n    </tr>\n    <tr>\n      <th>691508</th>\n      <td>2022-02-16</td>\n      <td>1</td>\n      <td>164</td>\n      <td>1</td>\n      <td>35</td>\n      <td>2.48</td>\n      <td>9</td>\n      <td>91.8125</td>\n      <td>-2.5625</td>\n      <td>751.0000</td>\n      <td>11.0</td>\n      <td>691508</td>\n      <td>test</td>\n      <td>2</td>\n      <td>0</td>\n    </tr>\n    <tr>\n      <th>691509</th>\n      <td>2022-02-17</td>\n      <td>1</td>\n      <td>164</td>\n      <td>1</td>\n      <td>35</td>\n      <td>2.48</td>\n      <td>6</td>\n      <td>93.5000</td>\n      <td>2.0625</td>\n      <td>740.0000</td>\n      <td>17.0</td>\n      <td>691509</td>\n      <td>test</td>\n      <td>3</td>\n      <td>0</td>\n    </tr>\n    <tr>\n      <th>691510</th>\n      <td>2022-02-18</td>\n      <td>1</td>\n      <td>164</td>\n      <td>1</td>\n      <td>35</td>\n      <td>2.48</td>\n      <td>3</td>\n      <td>96.5625</td>\n      <td>2.0625</td>\n      <td>736.0000</td>\n      <td>2.0</td>\n      <td>691510</td>\n      <td>test</td>\n      <td>4</td>\n      <td>0</td>\n    </tr>\n    <tr>\n      <th>691511</th>\n      <td>2022-02-19</td>\n      <td>1</td>\n      <td>164</td>\n      <td>1</td>\n      <td>35</td>\n      <td>2.48</td>\n      <td>9</td>\n      <td>89.9375</td>\n      <td>2.7500</td>\n      <td>743.0000</td>\n      <td>7.0</td>\n      <td>691511</td>\n      <td>test</td>\n      <td>5</td>\n      <td>1</td>\n    </tr>\n    <tr>\n      <th>691512</th>\n      <td>2022-02-20</td>\n      <td>1</td>\n      <td>164</td>\n      <td>1</td>\n      <td>35</td>\n      <td>2.48</td>\n      <td>9</td>\n      <td>76.2500</td>\n      <td>3.4375</td>\n      <td>742.3750</td>\n      <td>18.0</td>\n      <td>691512</td>\n      <td>test</td>\n      <td>6</td>\n      <td>1</td>\n    </tr>\n  </tbody>\n</table>\n<p>691512 rows × 15 columns</p>\n</div>"
     },
     "execution_count": 349,
     "metadata": {},
     "output_type": "execute_result"
    }
   ],
   "source": [
    "df['date'] = pd.to_datetime(df['date'])\n",
    "df['weekday'] = df.date.dt.weekday\n",
    "df['weekend'] = df['weekday'].isin([5, 6]).astype(int)\n",
    "df"
   ],
   "metadata": {
    "collapsed": false,
    "pycharm": {
     "name": "#%%\n"
    }
   }
  },
  {
   "cell_type": "code",
   "execution_count": 350,
   "outputs": [
    {
     "data": {
      "text/plain": "             date  city_name  store_id  category_id  product_id  price  \\\n0      2021-07-29          5         1            1           1   4.79   \n1      2021-07-30          5         1            1           1   4.79   \n2      2021-07-31          5         1            1           1   4.79   \n3      2021-08-01          5         1            1           1   4.79   \n4      2021-08-02          5         1            1           1   4.79   \n...           ...        ...       ...          ...         ...    ...   \n691507 2022-02-16          1       164            1          35   2.48   \n691508 2022-02-17          1       164            1          35   2.48   \n691509 2022-02-18          1       164            1          35   2.48   \n691510 2022-02-19          1       164            1          35   2.48   \n691511 2022-02-20          1       164            1          35   2.48   \n\n        weather_desc  humidity  temperature  pressure  ...  lag_day_19  \\\n0                 12   61.9375      23.1875  741.0000  ...        26.0   \n1                 12   70.2500      22.1875  740.3125  ...        37.0   \n2                  9   52.6250      21.8125  741.6250  ...        25.0   \n3                  6   87.4375      20.0625  743.3125  ...        26.0   \n4                  9   66.1875      23.4375  739.6250  ...        22.0   \n...              ...       ...          ...       ...  ...         ...   \n691507             9   91.8125      -2.5625  751.0000  ...        12.0   \n691508             6   93.5000       2.0625  740.0000  ...        17.0   \n691509             3   96.5625       2.0625  736.0000  ...         7.0   \n691510             9   89.9375       2.7500  743.0000  ...        18.0   \n691511             9   76.2500       3.4375  742.3750  ...        11.0   \n\n        lag_day_20 lag_day_21  lag_day_22  lag_day_23  lag_day_24  lag_day_25  \\\n0             26.0       26.0        26.0        26.0        26.0        26.0   \n1             37.0       37.0        37.0        37.0        37.0        37.0   \n2             25.0       25.0        25.0        25.0        25.0        25.0   \n3             26.0       26.0        26.0        26.0        26.0        26.0   \n4             22.0       22.0        22.0        22.0        22.0        22.0   \n...            ...        ...         ...         ...         ...         ...   \n691507        19.0        5.0         3.0         9.0         9.0        11.0   \n691508        12.0       19.0         5.0         3.0         9.0         9.0   \n691509        17.0       12.0        19.0         5.0         3.0         9.0   \n691510         7.0       17.0        12.0        19.0         5.0         3.0   \n691511        18.0        7.0        17.0        12.0        19.0         5.0   \n\n        lag_day_26  lag_day_27  lag_day_28  \n0             26.0        26.0        26.0  \n1             37.0        37.0        37.0  \n2             25.0        25.0        25.0  \n3             26.0        26.0        26.0  \n4             22.0        22.0        22.0  \n...            ...         ...         ...  \n691507        27.0         7.0        18.0  \n691508        11.0        27.0         7.0  \n691509         9.0        11.0        27.0  \n691510         9.0         9.0        11.0  \n691511         3.0         9.0         9.0  \n\n[691512 rows x 37 columns]",
      "text/html": "<div>\n<style scoped>\n    .dataframe tbody tr th:only-of-type {\n        vertical-align: middle;\n    }\n\n    .dataframe tbody tr th {\n        vertical-align: top;\n    }\n\n    .dataframe thead th {\n        text-align: right;\n    }\n</style>\n<table border=\"1\" class=\"dataframe\">\n  <thead>\n    <tr style=\"text-align: right;\">\n      <th></th>\n      <th>date</th>\n      <th>city_name</th>\n      <th>store_id</th>\n      <th>category_id</th>\n      <th>product_id</th>\n      <th>price</th>\n      <th>weather_desc</th>\n      <th>humidity</th>\n      <th>temperature</th>\n      <th>pressure</th>\n      <th>...</th>\n      <th>lag_day_19</th>\n      <th>lag_day_20</th>\n      <th>lag_day_21</th>\n      <th>lag_day_22</th>\n      <th>lag_day_23</th>\n      <th>lag_day_24</th>\n      <th>lag_day_25</th>\n      <th>lag_day_26</th>\n      <th>lag_day_27</th>\n      <th>lag_day_28</th>\n    </tr>\n  </thead>\n  <tbody>\n    <tr>\n      <th>0</th>\n      <td>2021-07-29</td>\n      <td>5</td>\n      <td>1</td>\n      <td>1</td>\n      <td>1</td>\n      <td>4.79</td>\n      <td>12</td>\n      <td>61.9375</td>\n      <td>23.1875</td>\n      <td>741.0000</td>\n      <td>...</td>\n      <td>26.0</td>\n      <td>26.0</td>\n      <td>26.0</td>\n      <td>26.0</td>\n      <td>26.0</td>\n      <td>26.0</td>\n      <td>26.0</td>\n      <td>26.0</td>\n      <td>26.0</td>\n      <td>26.0</td>\n    </tr>\n    <tr>\n      <th>1</th>\n      <td>2021-07-30</td>\n      <td>5</td>\n      <td>1</td>\n      <td>1</td>\n      <td>1</td>\n      <td>4.79</td>\n      <td>12</td>\n      <td>70.2500</td>\n      <td>22.1875</td>\n      <td>740.3125</td>\n      <td>...</td>\n      <td>37.0</td>\n      <td>37.0</td>\n      <td>37.0</td>\n      <td>37.0</td>\n      <td>37.0</td>\n      <td>37.0</td>\n      <td>37.0</td>\n      <td>37.0</td>\n      <td>37.0</td>\n      <td>37.0</td>\n    </tr>\n    <tr>\n      <th>2</th>\n      <td>2021-07-31</td>\n      <td>5</td>\n      <td>1</td>\n      <td>1</td>\n      <td>1</td>\n      <td>4.79</td>\n      <td>9</td>\n      <td>52.6250</td>\n      <td>21.8125</td>\n      <td>741.6250</td>\n      <td>...</td>\n      <td>25.0</td>\n      <td>25.0</td>\n      <td>25.0</td>\n      <td>25.0</td>\n      <td>25.0</td>\n      <td>25.0</td>\n      <td>25.0</td>\n      <td>25.0</td>\n      <td>25.0</td>\n      <td>25.0</td>\n    </tr>\n    <tr>\n      <th>3</th>\n      <td>2021-08-01</td>\n      <td>5</td>\n      <td>1</td>\n      <td>1</td>\n      <td>1</td>\n      <td>4.79</td>\n      <td>6</td>\n      <td>87.4375</td>\n      <td>20.0625</td>\n      <td>743.3125</td>\n      <td>...</td>\n      <td>26.0</td>\n      <td>26.0</td>\n      <td>26.0</td>\n      <td>26.0</td>\n      <td>26.0</td>\n      <td>26.0</td>\n      <td>26.0</td>\n      <td>26.0</td>\n      <td>26.0</td>\n      <td>26.0</td>\n    </tr>\n    <tr>\n      <th>4</th>\n      <td>2021-08-02</td>\n      <td>5</td>\n      <td>1</td>\n      <td>1</td>\n      <td>1</td>\n      <td>4.79</td>\n      <td>9</td>\n      <td>66.1875</td>\n      <td>23.4375</td>\n      <td>739.6250</td>\n      <td>...</td>\n      <td>22.0</td>\n      <td>22.0</td>\n      <td>22.0</td>\n      <td>22.0</td>\n      <td>22.0</td>\n      <td>22.0</td>\n      <td>22.0</td>\n      <td>22.0</td>\n      <td>22.0</td>\n      <td>22.0</td>\n    </tr>\n    <tr>\n      <th>...</th>\n      <td>...</td>\n      <td>...</td>\n      <td>...</td>\n      <td>...</td>\n      <td>...</td>\n      <td>...</td>\n      <td>...</td>\n      <td>...</td>\n      <td>...</td>\n      <td>...</td>\n      <td>...</td>\n      <td>...</td>\n      <td>...</td>\n      <td>...</td>\n      <td>...</td>\n      <td>...</td>\n      <td>...</td>\n      <td>...</td>\n      <td>...</td>\n      <td>...</td>\n      <td>...</td>\n    </tr>\n    <tr>\n      <th>691507</th>\n      <td>2022-02-16</td>\n      <td>1</td>\n      <td>164</td>\n      <td>1</td>\n      <td>35</td>\n      <td>2.48</td>\n      <td>9</td>\n      <td>91.8125</td>\n      <td>-2.5625</td>\n      <td>751.0000</td>\n      <td>...</td>\n      <td>12.0</td>\n      <td>19.0</td>\n      <td>5.0</td>\n      <td>3.0</td>\n      <td>9.0</td>\n      <td>9.0</td>\n      <td>11.0</td>\n      <td>27.0</td>\n      <td>7.0</td>\n      <td>18.0</td>\n    </tr>\n    <tr>\n      <th>691508</th>\n      <td>2022-02-17</td>\n      <td>1</td>\n      <td>164</td>\n      <td>1</td>\n      <td>35</td>\n      <td>2.48</td>\n      <td>6</td>\n      <td>93.5000</td>\n      <td>2.0625</td>\n      <td>740.0000</td>\n      <td>...</td>\n      <td>17.0</td>\n      <td>12.0</td>\n      <td>19.0</td>\n      <td>5.0</td>\n      <td>3.0</td>\n      <td>9.0</td>\n      <td>9.0</td>\n      <td>11.0</td>\n      <td>27.0</td>\n      <td>7.0</td>\n    </tr>\n    <tr>\n      <th>691509</th>\n      <td>2022-02-18</td>\n      <td>1</td>\n      <td>164</td>\n      <td>1</td>\n      <td>35</td>\n      <td>2.48</td>\n      <td>3</td>\n      <td>96.5625</td>\n      <td>2.0625</td>\n      <td>736.0000</td>\n      <td>...</td>\n      <td>7.0</td>\n      <td>17.0</td>\n      <td>12.0</td>\n      <td>19.0</td>\n      <td>5.0</td>\n      <td>3.0</td>\n      <td>9.0</td>\n      <td>9.0</td>\n      <td>11.0</td>\n      <td>27.0</td>\n    </tr>\n    <tr>\n      <th>691510</th>\n      <td>2022-02-19</td>\n      <td>1</td>\n      <td>164</td>\n      <td>1</td>\n      <td>35</td>\n      <td>2.48</td>\n      <td>9</td>\n      <td>89.9375</td>\n      <td>2.7500</td>\n      <td>743.0000</td>\n      <td>...</td>\n      <td>18.0</td>\n      <td>7.0</td>\n      <td>17.0</td>\n      <td>12.0</td>\n      <td>19.0</td>\n      <td>5.0</td>\n      <td>3.0</td>\n      <td>9.0</td>\n      <td>9.0</td>\n      <td>11.0</td>\n    </tr>\n    <tr>\n      <th>691511</th>\n      <td>2022-02-20</td>\n      <td>1</td>\n      <td>164</td>\n      <td>1</td>\n      <td>35</td>\n      <td>2.48</td>\n      <td>9</td>\n      <td>76.2500</td>\n      <td>3.4375</td>\n      <td>742.3750</td>\n      <td>...</td>\n      <td>11.0</td>\n      <td>18.0</td>\n      <td>7.0</td>\n      <td>17.0</td>\n      <td>12.0</td>\n      <td>19.0</td>\n      <td>5.0</td>\n      <td>3.0</td>\n      <td>9.0</td>\n      <td>9.0</td>\n    </tr>\n  </tbody>\n</table>\n<p>691512 rows × 37 columns</p>\n</div>"
     },
     "execution_count": 350,
     "metadata": {},
     "output_type": "execute_result"
    }
   ],
   "source": [
    "import numpy as np\n",
    "df = df.sort_values(['store_id', 'product_id', 'date']).reset_index(drop=True)\n",
    "group = df.groupby(['store_id', 'product_id'])\n",
    "for i in range(7, 29):\n",
    "    df[f'lag_day_{i}'] = group['sales'].shift(i)\n",
    "    df.loc[(np.isnan(df[f'lag_day_{i}'])) & (df['type'] == \"train\"), f'lag_day_{i}'] = df[(np.isnan(df[f'lag_day_{i}'])) & (df['type'] == \"train\")]['sales']\n",
    "df"
   ],
   "metadata": {
    "collapsed": false,
    "pycharm": {
     "name": "#%%\n"
    }
   }
  },
  {
   "cell_type": "code",
   "execution_count": 351,
   "outputs": [
    {
     "data": {
      "text/plain": "             date  city_name  store_id  category_id  product_id  price  \\\n0      2021-07-29          5         1            1           1   4.79   \n1      2021-07-30          5         1            1           1   4.79   \n2      2021-07-31          5         1            1           1   4.79   \n3      2021-08-01          5         1            1           1   4.79   \n4      2021-08-02          5         1            1           1   4.79   \n...           ...        ...       ...          ...         ...    ...   \n691507 2022-02-16          1       164            1          35   2.48   \n691508 2022-02-17          1       164            1          35   2.48   \n691509 2022-02-18          1       164            1          35   2.48   \n691510 2022-02-19          1       164            1          35   2.48   \n691511 2022-02-20          1       164            1          35   2.48   \n\n        weather_desc  humidity  temperature  pressure  ...  lag_day_21  \\\n0                 12   61.9375      23.1875  741.0000  ...        26.0   \n1                 12   70.2500      22.1875  740.3125  ...        37.0   \n2                  9   52.6250      21.8125  741.6250  ...        25.0   \n3                  6   87.4375      20.0625  743.3125  ...        26.0   \n4                  9   66.1875      23.4375  739.6250  ...        22.0   \n...              ...       ...          ...       ...  ...         ...   \n691507             9   91.8125      -2.5625  751.0000  ...         5.0   \n691508             6   93.5000       2.0625  740.0000  ...        19.0   \n691509             3   96.5625       2.0625  736.0000  ...        12.0   \n691510             9   89.9375       2.7500  743.0000  ...        17.0   \n691511             9   76.2500       3.4375  742.3750  ...         7.0   \n\n        lag_day_22 lag_day_23  lag_day_24  lag_day_25  lag_day_26  lag_day_27  \\\n0             26.0       26.0        26.0        26.0        26.0        26.0   \n1             37.0       37.0        37.0        37.0        37.0        37.0   \n2             25.0       25.0        25.0        25.0        25.0        25.0   \n3             26.0       26.0        26.0        26.0        26.0        26.0   \n4             22.0       22.0        22.0        22.0        22.0        22.0   \n...            ...        ...         ...         ...         ...         ...   \n691507         3.0        9.0         9.0        11.0        27.0         7.0   \n691508         5.0        3.0         9.0         9.0        11.0        27.0   \n691509        19.0        5.0         3.0         9.0         9.0        11.0   \n691510        12.0       19.0         5.0         3.0         9.0         9.0   \n691511        17.0       12.0        19.0         5.0         3.0         9.0   \n\n        lag_day_28  2_weeks_mean  3_weeks_mean  \n0             26.0          26.0          31.2  \n1             37.0          37.0          44.4  \n2             25.0          25.0          30.0  \n3             26.0          26.0          31.2  \n4             22.0          22.0          26.4  \n...            ...           ...           ...  \n691507        18.0          12.5          14.1  \n691508         7.0          17.6          21.2  \n691509        27.0           4.7           6.1  \n691510        11.0           7.3           9.7  \n691511         9.0          18.3          20.8  \n\n[691512 rows x 39 columns]",
      "text/html": "<div>\n<style scoped>\n    .dataframe tbody tr th:only-of-type {\n        vertical-align: middle;\n    }\n\n    .dataframe tbody tr th {\n        vertical-align: top;\n    }\n\n    .dataframe thead th {\n        text-align: right;\n    }\n</style>\n<table border=\"1\" class=\"dataframe\">\n  <thead>\n    <tr style=\"text-align: right;\">\n      <th></th>\n      <th>date</th>\n      <th>city_name</th>\n      <th>store_id</th>\n      <th>category_id</th>\n      <th>product_id</th>\n      <th>price</th>\n      <th>weather_desc</th>\n      <th>humidity</th>\n      <th>temperature</th>\n      <th>pressure</th>\n      <th>...</th>\n      <th>lag_day_21</th>\n      <th>lag_day_22</th>\n      <th>lag_day_23</th>\n      <th>lag_day_24</th>\n      <th>lag_day_25</th>\n      <th>lag_day_26</th>\n      <th>lag_day_27</th>\n      <th>lag_day_28</th>\n      <th>2_weeks_mean</th>\n      <th>3_weeks_mean</th>\n    </tr>\n  </thead>\n  <tbody>\n    <tr>\n      <th>0</th>\n      <td>2021-07-29</td>\n      <td>5</td>\n      <td>1</td>\n      <td>1</td>\n      <td>1</td>\n      <td>4.79</td>\n      <td>12</td>\n      <td>61.9375</td>\n      <td>23.1875</td>\n      <td>741.0000</td>\n      <td>...</td>\n      <td>26.0</td>\n      <td>26.0</td>\n      <td>26.0</td>\n      <td>26.0</td>\n      <td>26.0</td>\n      <td>26.0</td>\n      <td>26.0</td>\n      <td>26.0</td>\n      <td>26.0</td>\n      <td>31.2</td>\n    </tr>\n    <tr>\n      <th>1</th>\n      <td>2021-07-30</td>\n      <td>5</td>\n      <td>1</td>\n      <td>1</td>\n      <td>1</td>\n      <td>4.79</td>\n      <td>12</td>\n      <td>70.2500</td>\n      <td>22.1875</td>\n      <td>740.3125</td>\n      <td>...</td>\n      <td>37.0</td>\n      <td>37.0</td>\n      <td>37.0</td>\n      <td>37.0</td>\n      <td>37.0</td>\n      <td>37.0</td>\n      <td>37.0</td>\n      <td>37.0</td>\n      <td>37.0</td>\n      <td>44.4</td>\n    </tr>\n    <tr>\n      <th>2</th>\n      <td>2021-07-31</td>\n      <td>5</td>\n      <td>1</td>\n      <td>1</td>\n      <td>1</td>\n      <td>4.79</td>\n      <td>9</td>\n      <td>52.6250</td>\n      <td>21.8125</td>\n      <td>741.6250</td>\n      <td>...</td>\n      <td>25.0</td>\n      <td>25.0</td>\n      <td>25.0</td>\n      <td>25.0</td>\n      <td>25.0</td>\n      <td>25.0</td>\n      <td>25.0</td>\n      <td>25.0</td>\n      <td>25.0</td>\n      <td>30.0</td>\n    </tr>\n    <tr>\n      <th>3</th>\n      <td>2021-08-01</td>\n      <td>5</td>\n      <td>1</td>\n      <td>1</td>\n      <td>1</td>\n      <td>4.79</td>\n      <td>6</td>\n      <td>87.4375</td>\n      <td>20.0625</td>\n      <td>743.3125</td>\n      <td>...</td>\n      <td>26.0</td>\n      <td>26.0</td>\n      <td>26.0</td>\n      <td>26.0</td>\n      <td>26.0</td>\n      <td>26.0</td>\n      <td>26.0</td>\n      <td>26.0</td>\n      <td>26.0</td>\n      <td>31.2</td>\n    </tr>\n    <tr>\n      <th>4</th>\n      <td>2021-08-02</td>\n      <td>5</td>\n      <td>1</td>\n      <td>1</td>\n      <td>1</td>\n      <td>4.79</td>\n      <td>9</td>\n      <td>66.1875</td>\n      <td>23.4375</td>\n      <td>739.6250</td>\n      <td>...</td>\n      <td>22.0</td>\n      <td>22.0</td>\n      <td>22.0</td>\n      <td>22.0</td>\n      <td>22.0</td>\n      <td>22.0</td>\n      <td>22.0</td>\n      <td>22.0</td>\n      <td>22.0</td>\n      <td>26.4</td>\n    </tr>\n    <tr>\n      <th>...</th>\n      <td>...</td>\n      <td>...</td>\n      <td>...</td>\n      <td>...</td>\n      <td>...</td>\n      <td>...</td>\n      <td>...</td>\n      <td>...</td>\n      <td>...</td>\n      <td>...</td>\n      <td>...</td>\n      <td>...</td>\n      <td>...</td>\n      <td>...</td>\n      <td>...</td>\n      <td>...</td>\n      <td>...</td>\n      <td>...</td>\n      <td>...</td>\n      <td>...</td>\n      <td>...</td>\n    </tr>\n    <tr>\n      <th>691507</th>\n      <td>2022-02-16</td>\n      <td>1</td>\n      <td>164</td>\n      <td>1</td>\n      <td>35</td>\n      <td>2.48</td>\n      <td>9</td>\n      <td>91.8125</td>\n      <td>-2.5625</td>\n      <td>751.0000</td>\n      <td>...</td>\n      <td>5.0</td>\n      <td>3.0</td>\n      <td>9.0</td>\n      <td>9.0</td>\n      <td>11.0</td>\n      <td>27.0</td>\n      <td>7.0</td>\n      <td>18.0</td>\n      <td>12.5</td>\n      <td>14.1</td>\n    </tr>\n    <tr>\n      <th>691508</th>\n      <td>2022-02-17</td>\n      <td>1</td>\n      <td>164</td>\n      <td>1</td>\n      <td>35</td>\n      <td>2.48</td>\n      <td>6</td>\n      <td>93.5000</td>\n      <td>2.0625</td>\n      <td>740.0000</td>\n      <td>...</td>\n      <td>19.0</td>\n      <td>5.0</td>\n      <td>3.0</td>\n      <td>9.0</td>\n      <td>9.0</td>\n      <td>11.0</td>\n      <td>27.0</td>\n      <td>7.0</td>\n      <td>17.6</td>\n      <td>21.2</td>\n    </tr>\n    <tr>\n      <th>691509</th>\n      <td>2022-02-18</td>\n      <td>1</td>\n      <td>164</td>\n      <td>1</td>\n      <td>35</td>\n      <td>2.48</td>\n      <td>3</td>\n      <td>96.5625</td>\n      <td>2.0625</td>\n      <td>736.0000</td>\n      <td>...</td>\n      <td>12.0</td>\n      <td>19.0</td>\n      <td>5.0</td>\n      <td>3.0</td>\n      <td>9.0</td>\n      <td>9.0</td>\n      <td>11.0</td>\n      <td>27.0</td>\n      <td>4.7</td>\n      <td>6.1</td>\n    </tr>\n    <tr>\n      <th>691510</th>\n      <td>2022-02-19</td>\n      <td>1</td>\n      <td>164</td>\n      <td>1</td>\n      <td>35</td>\n      <td>2.48</td>\n      <td>9</td>\n      <td>89.9375</td>\n      <td>2.7500</td>\n      <td>743.0000</td>\n      <td>...</td>\n      <td>17.0</td>\n      <td>12.0</td>\n      <td>19.0</td>\n      <td>5.0</td>\n      <td>3.0</td>\n      <td>9.0</td>\n      <td>9.0</td>\n      <td>11.0</td>\n      <td>7.3</td>\n      <td>9.7</td>\n    </tr>\n    <tr>\n      <th>691511</th>\n      <td>2022-02-20</td>\n      <td>1</td>\n      <td>164</td>\n      <td>1</td>\n      <td>35</td>\n      <td>2.48</td>\n      <td>9</td>\n      <td>76.2500</td>\n      <td>3.4375</td>\n      <td>742.3750</td>\n      <td>...</td>\n      <td>7.0</td>\n      <td>17.0</td>\n      <td>12.0</td>\n      <td>19.0</td>\n      <td>5.0</td>\n      <td>3.0</td>\n      <td>9.0</td>\n      <td>9.0</td>\n      <td>18.3</td>\n      <td>20.8</td>\n    </tr>\n  </tbody>\n</table>\n<p>691512 rows × 39 columns</p>\n</div>"
     },
     "execution_count": 351,
     "metadata": {},
     "output_type": "execute_result"
    }
   ],
   "source": [
    "weights = np.array([0.7, 0.3])\n",
    "df['2_weeks_mean'] = np.sum(df[['lag_day_7', 'lag_day_14']] * weights, axis=1)\n",
    "df['3_weeks_mean'] = np.sum(df[['lag_day_7', 'lag_day_14', \"lag_day_21\"]] * np.array([0.8, 0.3, 0.1]), axis=1)\n",
    "df"
   ],
   "metadata": {
    "collapsed": false,
    "pycharm": {
     "name": "#%%\n"
    }
   }
  },
  {
   "cell_type": "code",
   "execution_count": 352,
   "outputs": [
    {
     "data": {
      "text/plain": "             date  city_name  store_id  category_id  product_id  price  \\\n0      2021-07-29          5         1            1           1   4.79   \n1      2021-07-30          5         1            1           1   4.79   \n2      2021-07-31          5         1            1           1   4.79   \n3      2021-08-01          5         1            1           1   4.79   \n4      2021-08-02          5         1            1           1   4.79   \n...           ...        ...       ...          ...         ...    ...   \n691507 2022-02-16          1       164            1          35   2.48   \n691508 2022-02-17          1       164            1          35   2.48   \n691509 2022-02-18          1       164            1          35   2.48   \n691510 2022-02-19          1       164            1          35   2.48   \n691511 2022-02-20          1       164            1          35   2.48   \n\n        weather_desc  humidity  temperature  pressure  ...  lag_day_22  \\\n0                 12   61.9375      23.1875  741.0000  ...        26.0   \n1                 12   70.2500      22.1875  740.3125  ...        37.0   \n2                  9   52.6250      21.8125  741.6250  ...        25.0   \n3                  6   87.4375      20.0625  743.3125  ...        26.0   \n4                  9   66.1875      23.4375  739.6250  ...        22.0   \n...              ...       ...          ...       ...  ...         ...   \n691507             9   91.8125      -2.5625  751.0000  ...         3.0   \n691508             6   93.5000       2.0625  740.0000  ...         5.0   \n691509             3   96.5625       2.0625  736.0000  ...        19.0   \n691510             9   89.9375       2.7500  743.0000  ...        12.0   \n691511             9   76.2500       3.4375  742.3750  ...        17.0   \n\n        lag_day_23 lag_day_24  lag_day_25  lag_day_26  lag_day_27  lag_day_28  \\\n0             26.0       26.0        26.0        26.0        26.0        26.0   \n1             37.0       37.0        37.0        37.0        37.0        37.0   \n2             25.0       25.0        25.0        25.0        25.0        25.0   \n3             26.0       26.0        26.0        26.0        26.0        26.0   \n4             22.0       22.0        22.0        22.0        22.0        22.0   \n...            ...        ...         ...         ...         ...         ...   \n691507         9.0        9.0        11.0        27.0         7.0        18.0   \n691508         3.0        9.0         9.0        11.0        27.0         7.0   \n691509         5.0        3.0         9.0         9.0        11.0        27.0   \n691510        19.0        5.0         3.0         9.0         9.0        11.0   \n691511        12.0       19.0         5.0         3.0         9.0         9.0   \n\n        2_weeks_mean  3_weeks_mean  orders_sum  \n0               26.0          31.2     11437.0  \n1               37.0          44.4     13918.0  \n2               25.0          30.0     13253.0  \n3               26.0          31.2     12014.0  \n4               22.0          26.4      9700.0  \n...              ...           ...         ...  \n691507          12.5          14.1      2393.0  \n691508          17.6          21.2      2561.0  \n691509           4.7           6.1      3419.0  \n691510           7.3           9.7      3849.0  \n691511          18.3          20.8      3610.0  \n\n[691512 rows x 40 columns]",
      "text/html": "<div>\n<style scoped>\n    .dataframe tbody tr th:only-of-type {\n        vertical-align: middle;\n    }\n\n    .dataframe tbody tr th {\n        vertical-align: top;\n    }\n\n    .dataframe thead th {\n        text-align: right;\n    }\n</style>\n<table border=\"1\" class=\"dataframe\">\n  <thead>\n    <tr style=\"text-align: right;\">\n      <th></th>\n      <th>date</th>\n      <th>city_name</th>\n      <th>store_id</th>\n      <th>category_id</th>\n      <th>product_id</th>\n      <th>price</th>\n      <th>weather_desc</th>\n      <th>humidity</th>\n      <th>temperature</th>\n      <th>pressure</th>\n      <th>...</th>\n      <th>lag_day_22</th>\n      <th>lag_day_23</th>\n      <th>lag_day_24</th>\n      <th>lag_day_25</th>\n      <th>lag_day_26</th>\n      <th>lag_day_27</th>\n      <th>lag_day_28</th>\n      <th>2_weeks_mean</th>\n      <th>3_weeks_mean</th>\n      <th>orders_sum</th>\n    </tr>\n  </thead>\n  <tbody>\n    <tr>\n      <th>0</th>\n      <td>2021-07-29</td>\n      <td>5</td>\n      <td>1</td>\n      <td>1</td>\n      <td>1</td>\n      <td>4.79</td>\n      <td>12</td>\n      <td>61.9375</td>\n      <td>23.1875</td>\n      <td>741.0000</td>\n      <td>...</td>\n      <td>26.0</td>\n      <td>26.0</td>\n      <td>26.0</td>\n      <td>26.0</td>\n      <td>26.0</td>\n      <td>26.0</td>\n      <td>26.0</td>\n      <td>26.0</td>\n      <td>31.2</td>\n      <td>11437.0</td>\n    </tr>\n    <tr>\n      <th>1</th>\n      <td>2021-07-30</td>\n      <td>5</td>\n      <td>1</td>\n      <td>1</td>\n      <td>1</td>\n      <td>4.79</td>\n      <td>12</td>\n      <td>70.2500</td>\n      <td>22.1875</td>\n      <td>740.3125</td>\n      <td>...</td>\n      <td>37.0</td>\n      <td>37.0</td>\n      <td>37.0</td>\n      <td>37.0</td>\n      <td>37.0</td>\n      <td>37.0</td>\n      <td>37.0</td>\n      <td>37.0</td>\n      <td>44.4</td>\n      <td>13918.0</td>\n    </tr>\n    <tr>\n      <th>2</th>\n      <td>2021-07-31</td>\n      <td>5</td>\n      <td>1</td>\n      <td>1</td>\n      <td>1</td>\n      <td>4.79</td>\n      <td>9</td>\n      <td>52.6250</td>\n      <td>21.8125</td>\n      <td>741.6250</td>\n      <td>...</td>\n      <td>25.0</td>\n      <td>25.0</td>\n      <td>25.0</td>\n      <td>25.0</td>\n      <td>25.0</td>\n      <td>25.0</td>\n      <td>25.0</td>\n      <td>25.0</td>\n      <td>30.0</td>\n      <td>13253.0</td>\n    </tr>\n    <tr>\n      <th>3</th>\n      <td>2021-08-01</td>\n      <td>5</td>\n      <td>1</td>\n      <td>1</td>\n      <td>1</td>\n      <td>4.79</td>\n      <td>6</td>\n      <td>87.4375</td>\n      <td>20.0625</td>\n      <td>743.3125</td>\n      <td>...</td>\n      <td>26.0</td>\n      <td>26.0</td>\n      <td>26.0</td>\n      <td>26.0</td>\n      <td>26.0</td>\n      <td>26.0</td>\n      <td>26.0</td>\n      <td>26.0</td>\n      <td>31.2</td>\n      <td>12014.0</td>\n    </tr>\n    <tr>\n      <th>4</th>\n      <td>2021-08-02</td>\n      <td>5</td>\n      <td>1</td>\n      <td>1</td>\n      <td>1</td>\n      <td>4.79</td>\n      <td>9</td>\n      <td>66.1875</td>\n      <td>23.4375</td>\n      <td>739.6250</td>\n      <td>...</td>\n      <td>22.0</td>\n      <td>22.0</td>\n      <td>22.0</td>\n      <td>22.0</td>\n      <td>22.0</td>\n      <td>22.0</td>\n      <td>22.0</td>\n      <td>22.0</td>\n      <td>26.4</td>\n      <td>9700.0</td>\n    </tr>\n    <tr>\n      <th>...</th>\n      <td>...</td>\n      <td>...</td>\n      <td>...</td>\n      <td>...</td>\n      <td>...</td>\n      <td>...</td>\n      <td>...</td>\n      <td>...</td>\n      <td>...</td>\n      <td>...</td>\n      <td>...</td>\n      <td>...</td>\n      <td>...</td>\n      <td>...</td>\n      <td>...</td>\n      <td>...</td>\n      <td>...</td>\n      <td>...</td>\n      <td>...</td>\n      <td>...</td>\n      <td>...</td>\n    </tr>\n    <tr>\n      <th>691507</th>\n      <td>2022-02-16</td>\n      <td>1</td>\n      <td>164</td>\n      <td>1</td>\n      <td>35</td>\n      <td>2.48</td>\n      <td>9</td>\n      <td>91.8125</td>\n      <td>-2.5625</td>\n      <td>751.0000</td>\n      <td>...</td>\n      <td>3.0</td>\n      <td>9.0</td>\n      <td>9.0</td>\n      <td>11.0</td>\n      <td>27.0</td>\n      <td>7.0</td>\n      <td>18.0</td>\n      <td>12.5</td>\n      <td>14.1</td>\n      <td>2393.0</td>\n    </tr>\n    <tr>\n      <th>691508</th>\n      <td>2022-02-17</td>\n      <td>1</td>\n      <td>164</td>\n      <td>1</td>\n      <td>35</td>\n      <td>2.48</td>\n      <td>6</td>\n      <td>93.5000</td>\n      <td>2.0625</td>\n      <td>740.0000</td>\n      <td>...</td>\n      <td>5.0</td>\n      <td>3.0</td>\n      <td>9.0</td>\n      <td>9.0</td>\n      <td>11.0</td>\n      <td>27.0</td>\n      <td>7.0</td>\n      <td>17.6</td>\n      <td>21.2</td>\n      <td>2561.0</td>\n    </tr>\n    <tr>\n      <th>691509</th>\n      <td>2022-02-18</td>\n      <td>1</td>\n      <td>164</td>\n      <td>1</td>\n      <td>35</td>\n      <td>2.48</td>\n      <td>3</td>\n      <td>96.5625</td>\n      <td>2.0625</td>\n      <td>736.0000</td>\n      <td>...</td>\n      <td>19.0</td>\n      <td>5.0</td>\n      <td>3.0</td>\n      <td>9.0</td>\n      <td>9.0</td>\n      <td>11.0</td>\n      <td>27.0</td>\n      <td>4.7</td>\n      <td>6.1</td>\n      <td>3419.0</td>\n    </tr>\n    <tr>\n      <th>691510</th>\n      <td>2022-02-19</td>\n      <td>1</td>\n      <td>164</td>\n      <td>1</td>\n      <td>35</td>\n      <td>2.48</td>\n      <td>9</td>\n      <td>89.9375</td>\n      <td>2.7500</td>\n      <td>743.0000</td>\n      <td>...</td>\n      <td>12.0</td>\n      <td>19.0</td>\n      <td>5.0</td>\n      <td>3.0</td>\n      <td>9.0</td>\n      <td>9.0</td>\n      <td>11.0</td>\n      <td>7.3</td>\n      <td>9.7</td>\n      <td>3849.0</td>\n    </tr>\n    <tr>\n      <th>691511</th>\n      <td>2022-02-20</td>\n      <td>1</td>\n      <td>164</td>\n      <td>1</td>\n      <td>35</td>\n      <td>2.48</td>\n      <td>9</td>\n      <td>76.2500</td>\n      <td>3.4375</td>\n      <td>742.3750</td>\n      <td>...</td>\n      <td>17.0</td>\n      <td>12.0</td>\n      <td>19.0</td>\n      <td>5.0</td>\n      <td>3.0</td>\n      <td>9.0</td>\n      <td>9.0</td>\n      <td>18.3</td>\n      <td>20.8</td>\n      <td>3610.0</td>\n    </tr>\n  </tbody>\n</table>\n<p>691512 rows × 40 columns</p>\n</div>"
     },
     "execution_count": 352,
     "metadata": {},
     "output_type": "execute_result"
    }
   ],
   "source": [
    "tmp = df.groupby(['city_name', 'date'])['lag_day_7'].sum().reset_index()\n",
    "tmp.rename(columns={'lag_day_7': 'orders_sum'}, inplace=True)\n",
    "df = df.merge(tmp, on=['city_name', 'date'], how='left')\n",
    "df"
   ],
   "metadata": {
    "collapsed": false,
    "pycharm": {
     "name": "#%%\n"
    }
   }
  },
  {
   "cell_type": "code",
   "execution_count": 353,
   "outputs": [
    {
     "data": {
      "text/plain": "             date  city_name  store_id  category_id  product_id  price  \\\n0      2021-07-29          5         1            1           1   4.79   \n1      2021-07-30          5         1            1           1   4.79   \n2      2021-07-31          5         1            1           1   4.79   \n3      2021-08-01          5         1            1           1   4.79   \n4      2021-08-02          5         1            1           1   4.79   \n...           ...        ...       ...          ...         ...    ...   \n691507 2022-02-16          1       164            1          35   2.48   \n691508 2022-02-17          1       164            1          35   2.48   \n691509 2022-02-18          1       164            1          35   2.48   \n691510 2022-02-19          1       164            1          35   2.48   \n691511 2022-02-20          1       164            1          35   2.48   \n\n        weather_desc  humidity  temperature  pressure  ...  2_weeks_mean  \\\n0                 12   61.9375      23.1875  741.0000  ...          26.0   \n1                 12   70.2500      22.1875  740.3125  ...          37.0   \n2                  9   52.6250      21.8125  741.6250  ...          25.0   \n3                  6   87.4375      20.0625  743.3125  ...          26.0   \n4                  9   66.1875      23.4375  739.6250  ...          22.0   \n...              ...       ...          ...       ...  ...           ...   \n691507             9   91.8125      -2.5625  751.0000  ...          12.5   \n691508             6   93.5000       2.0625  740.0000  ...          17.6   \n691509             3   96.5625       2.0625  736.0000  ...           4.7   \n691510             9   89.9375       2.7500  743.0000  ...           7.3   \n691511             9   76.2500       3.4375  742.3750  ...          18.3   \n\n        3_weeks_mean orders_sum  wd_0  wd_1  wd_2  wd_3  wd_4  wd_5  wd_6  \n0               31.2    11437.0     0     0     0     1     0     0     0  \n1               44.4    13918.0     0     0     0     0     1     0     0  \n2               30.0    13253.0     0     0     0     0     0     1     0  \n3               31.2    12014.0     0     0     0     0     0     0     1  \n4               26.4     9700.0     1     0     0     0     0     0     0  \n...              ...        ...   ...   ...   ...   ...   ...   ...   ...  \n691507          14.1     2393.0     0     0     1     0     0     0     0  \n691508          21.2     2561.0     0     0     0     1     0     0     0  \n691509           6.1     3419.0     0     0     0     0     1     0     0  \n691510           9.7     3849.0     0     0     0     0     0     1     0  \n691511          20.8     3610.0     0     0     0     0     0     0     1  \n\n[691512 rows x 47 columns]",
      "text/html": "<div>\n<style scoped>\n    .dataframe tbody tr th:only-of-type {\n        vertical-align: middle;\n    }\n\n    .dataframe tbody tr th {\n        vertical-align: top;\n    }\n\n    .dataframe thead th {\n        text-align: right;\n    }\n</style>\n<table border=\"1\" class=\"dataframe\">\n  <thead>\n    <tr style=\"text-align: right;\">\n      <th></th>\n      <th>date</th>\n      <th>city_name</th>\n      <th>store_id</th>\n      <th>category_id</th>\n      <th>product_id</th>\n      <th>price</th>\n      <th>weather_desc</th>\n      <th>humidity</th>\n      <th>temperature</th>\n      <th>pressure</th>\n      <th>...</th>\n      <th>2_weeks_mean</th>\n      <th>3_weeks_mean</th>\n      <th>orders_sum</th>\n      <th>wd_0</th>\n      <th>wd_1</th>\n      <th>wd_2</th>\n      <th>wd_3</th>\n      <th>wd_4</th>\n      <th>wd_5</th>\n      <th>wd_6</th>\n    </tr>\n  </thead>\n  <tbody>\n    <tr>\n      <th>0</th>\n      <td>2021-07-29</td>\n      <td>5</td>\n      <td>1</td>\n      <td>1</td>\n      <td>1</td>\n      <td>4.79</td>\n      <td>12</td>\n      <td>61.9375</td>\n      <td>23.1875</td>\n      <td>741.0000</td>\n      <td>...</td>\n      <td>26.0</td>\n      <td>31.2</td>\n      <td>11437.0</td>\n      <td>0</td>\n      <td>0</td>\n      <td>0</td>\n      <td>1</td>\n      <td>0</td>\n      <td>0</td>\n      <td>0</td>\n    </tr>\n    <tr>\n      <th>1</th>\n      <td>2021-07-30</td>\n      <td>5</td>\n      <td>1</td>\n      <td>1</td>\n      <td>1</td>\n      <td>4.79</td>\n      <td>12</td>\n      <td>70.2500</td>\n      <td>22.1875</td>\n      <td>740.3125</td>\n      <td>...</td>\n      <td>37.0</td>\n      <td>44.4</td>\n      <td>13918.0</td>\n      <td>0</td>\n      <td>0</td>\n      <td>0</td>\n      <td>0</td>\n      <td>1</td>\n      <td>0</td>\n      <td>0</td>\n    </tr>\n    <tr>\n      <th>2</th>\n      <td>2021-07-31</td>\n      <td>5</td>\n      <td>1</td>\n      <td>1</td>\n      <td>1</td>\n      <td>4.79</td>\n      <td>9</td>\n      <td>52.6250</td>\n      <td>21.8125</td>\n      <td>741.6250</td>\n      <td>...</td>\n      <td>25.0</td>\n      <td>30.0</td>\n      <td>13253.0</td>\n      <td>0</td>\n      <td>0</td>\n      <td>0</td>\n      <td>0</td>\n      <td>0</td>\n      <td>1</td>\n      <td>0</td>\n    </tr>\n    <tr>\n      <th>3</th>\n      <td>2021-08-01</td>\n      <td>5</td>\n      <td>1</td>\n      <td>1</td>\n      <td>1</td>\n      <td>4.79</td>\n      <td>6</td>\n      <td>87.4375</td>\n      <td>20.0625</td>\n      <td>743.3125</td>\n      <td>...</td>\n      <td>26.0</td>\n      <td>31.2</td>\n      <td>12014.0</td>\n      <td>0</td>\n      <td>0</td>\n      <td>0</td>\n      <td>0</td>\n      <td>0</td>\n      <td>0</td>\n      <td>1</td>\n    </tr>\n    <tr>\n      <th>4</th>\n      <td>2021-08-02</td>\n      <td>5</td>\n      <td>1</td>\n      <td>1</td>\n      <td>1</td>\n      <td>4.79</td>\n      <td>9</td>\n      <td>66.1875</td>\n      <td>23.4375</td>\n      <td>739.6250</td>\n      <td>...</td>\n      <td>22.0</td>\n      <td>26.4</td>\n      <td>9700.0</td>\n      <td>1</td>\n      <td>0</td>\n      <td>0</td>\n      <td>0</td>\n      <td>0</td>\n      <td>0</td>\n      <td>0</td>\n    </tr>\n    <tr>\n      <th>...</th>\n      <td>...</td>\n      <td>...</td>\n      <td>...</td>\n      <td>...</td>\n      <td>...</td>\n      <td>...</td>\n      <td>...</td>\n      <td>...</td>\n      <td>...</td>\n      <td>...</td>\n      <td>...</td>\n      <td>...</td>\n      <td>...</td>\n      <td>...</td>\n      <td>...</td>\n      <td>...</td>\n      <td>...</td>\n      <td>...</td>\n      <td>...</td>\n      <td>...</td>\n      <td>...</td>\n    </tr>\n    <tr>\n      <th>691507</th>\n      <td>2022-02-16</td>\n      <td>1</td>\n      <td>164</td>\n      <td>1</td>\n      <td>35</td>\n      <td>2.48</td>\n      <td>9</td>\n      <td>91.8125</td>\n      <td>-2.5625</td>\n      <td>751.0000</td>\n      <td>...</td>\n      <td>12.5</td>\n      <td>14.1</td>\n      <td>2393.0</td>\n      <td>0</td>\n      <td>0</td>\n      <td>1</td>\n      <td>0</td>\n      <td>0</td>\n      <td>0</td>\n      <td>0</td>\n    </tr>\n    <tr>\n      <th>691508</th>\n      <td>2022-02-17</td>\n      <td>1</td>\n      <td>164</td>\n      <td>1</td>\n      <td>35</td>\n      <td>2.48</td>\n      <td>6</td>\n      <td>93.5000</td>\n      <td>2.0625</td>\n      <td>740.0000</td>\n      <td>...</td>\n      <td>17.6</td>\n      <td>21.2</td>\n      <td>2561.0</td>\n      <td>0</td>\n      <td>0</td>\n      <td>0</td>\n      <td>1</td>\n      <td>0</td>\n      <td>0</td>\n      <td>0</td>\n    </tr>\n    <tr>\n      <th>691509</th>\n      <td>2022-02-18</td>\n      <td>1</td>\n      <td>164</td>\n      <td>1</td>\n      <td>35</td>\n      <td>2.48</td>\n      <td>3</td>\n      <td>96.5625</td>\n      <td>2.0625</td>\n      <td>736.0000</td>\n      <td>...</td>\n      <td>4.7</td>\n      <td>6.1</td>\n      <td>3419.0</td>\n      <td>0</td>\n      <td>0</td>\n      <td>0</td>\n      <td>0</td>\n      <td>1</td>\n      <td>0</td>\n      <td>0</td>\n    </tr>\n    <tr>\n      <th>691510</th>\n      <td>2022-02-19</td>\n      <td>1</td>\n      <td>164</td>\n      <td>1</td>\n      <td>35</td>\n      <td>2.48</td>\n      <td>9</td>\n      <td>89.9375</td>\n      <td>2.7500</td>\n      <td>743.0000</td>\n      <td>...</td>\n      <td>7.3</td>\n      <td>9.7</td>\n      <td>3849.0</td>\n      <td>0</td>\n      <td>0</td>\n      <td>0</td>\n      <td>0</td>\n      <td>0</td>\n      <td>1</td>\n      <td>0</td>\n    </tr>\n    <tr>\n      <th>691511</th>\n      <td>2022-02-20</td>\n      <td>1</td>\n      <td>164</td>\n      <td>1</td>\n      <td>35</td>\n      <td>2.48</td>\n      <td>9</td>\n      <td>76.2500</td>\n      <td>3.4375</td>\n      <td>742.3750</td>\n      <td>...</td>\n      <td>18.3</td>\n      <td>20.8</td>\n      <td>3610.0</td>\n      <td>0</td>\n      <td>0</td>\n      <td>0</td>\n      <td>0</td>\n      <td>0</td>\n      <td>0</td>\n      <td>1</td>\n    </tr>\n  </tbody>\n</table>\n<p>691512 rows × 47 columns</p>\n</div>"
     },
     "execution_count": 353,
     "metadata": {},
     "output_type": "execute_result"
    }
   ],
   "source": [
    "# Предобработка категориальных фичей, используем one-hot encoding\n",
    "df = pd.concat((df, pd.get_dummies(df.weekday, prefix='wd')), axis=1)\n",
    "#df = pd.concat((df, pd.get_dummies(df.city_name, prefix='ci')), axis=1)\n",
    "#df = pd.concat((df, pd.get_dummies(df.weather_desc, prefix='we')), axis=1)\n",
    "df"
   ],
   "metadata": {
    "collapsed": false,
    "pycharm": {
     "name": "#%%\n"
    }
   }
  },
  {
   "cell_type": "code",
   "execution_count": 354,
   "outputs": [],
   "source": [
    "train_df = df[df['type'] == 'train'].copy().dropna().reset_index(drop=True)\n",
    "test_df = df[df['type'] == 'test'].copy().reset_index(drop=True)\n",
    "train_df = train_df.sort_values(['date', 'store_id', \"product_id\"]).reset_index(drop=True)\n",
    "test_df = test_df.sort_values(['date', 'store_id', \"product_id\"]).reset_index(drop=True)"
   ],
   "metadata": {
    "collapsed": false,
    "pycharm": {
     "name": "#%%\n"
    }
   }
  },
  {
   "cell_type": "code",
   "execution_count": 355,
   "outputs": [
    {
     "data": {
      "text/plain": "            date  city_name  store_id  category_id  product_id  price  \\\n0     2022-02-14          5         1            1           1   4.79   \n1     2022-02-14          5         1            2           2   7.78   \n2     2022-02-14          5         1            1           4   8.15   \n3     2022-02-14          5         1            2           5  11.25   \n4     2022-02-14          5         1            2           7  12.15   \n...          ...        ...       ...          ...         ...    ...   \n24831 2022-02-20          1       164            1          29   6.02   \n24832 2022-02-20          1       164            1          30   2.49   \n24833 2022-02-20          1       164            1          33   3.00   \n24834 2022-02-20          1       164            1          34   3.80   \n24835 2022-02-20          1       164            1          35   2.48   \n\n       weather_desc  humidity  temperature  pressure  ...  2_weeks_mean  \\\n0                 3   87.3125      -1.9375  749.3125  ...          21.4   \n1                 3   87.3125      -1.9375  749.3125  ...          12.5   \n2                 3   87.3125      -1.9375  749.3125  ...           6.5   \n3                 3   87.3125      -1.9375  749.3125  ...          14.1   \n4                 3   87.3125      -1.9375  749.3125  ...           5.0   \n...             ...       ...          ...       ...  ...           ...   \n24831             9   76.2500       3.4375  742.3750  ...           1.6   \n24832             9   76.2500       3.4375  742.3750  ...          18.5   \n24833             9   76.2500       3.4375  742.3750  ...           3.0   \n24834             9   76.2500       3.4375  742.3750  ...           4.9   \n24835             9   76.2500       3.4375  742.3750  ...          18.3   \n\n       3_weeks_mean orders_sum  wd_0  wd_1  wd_2  wd_3  wd_4  wd_5  wd_6  \n0              27.2    13118.0     1     0     0     0     0     0     0  \n1              16.1    13118.0     1     0     0     0     0     0     0  \n2               8.2    13118.0     1     0     0     0     0     0     0  \n3              17.3    13118.0     1     0     0     0     0     0     0  \n4               6.1    13118.0     1     0     0     0     0     0     0  \n...             ...        ...   ...   ...   ...   ...   ...   ...   ...  \n24831           1.7     3610.0     0     0     0     0     0     0     1  \n24832          22.1     3610.0     0     0     0     0     0     0     1  \n24833           3.5     3610.0     0     0     0     0     0     0     1  \n24834           5.8     3610.0     0     0     0     0     0     0     1  \n24835          20.8     3610.0     0     0     0     0     0     0     1  \n\n[24836 rows x 47 columns]",
      "text/html": "<div>\n<style scoped>\n    .dataframe tbody tr th:only-of-type {\n        vertical-align: middle;\n    }\n\n    .dataframe tbody tr th {\n        vertical-align: top;\n    }\n\n    .dataframe thead th {\n        text-align: right;\n    }\n</style>\n<table border=\"1\" class=\"dataframe\">\n  <thead>\n    <tr style=\"text-align: right;\">\n      <th></th>\n      <th>date</th>\n      <th>city_name</th>\n      <th>store_id</th>\n      <th>category_id</th>\n      <th>product_id</th>\n      <th>price</th>\n      <th>weather_desc</th>\n      <th>humidity</th>\n      <th>temperature</th>\n      <th>pressure</th>\n      <th>...</th>\n      <th>2_weeks_mean</th>\n      <th>3_weeks_mean</th>\n      <th>orders_sum</th>\n      <th>wd_0</th>\n      <th>wd_1</th>\n      <th>wd_2</th>\n      <th>wd_3</th>\n      <th>wd_4</th>\n      <th>wd_5</th>\n      <th>wd_6</th>\n    </tr>\n  </thead>\n  <tbody>\n    <tr>\n      <th>0</th>\n      <td>2022-02-14</td>\n      <td>5</td>\n      <td>1</td>\n      <td>1</td>\n      <td>1</td>\n      <td>4.79</td>\n      <td>3</td>\n      <td>87.3125</td>\n      <td>-1.9375</td>\n      <td>749.3125</td>\n      <td>...</td>\n      <td>21.4</td>\n      <td>27.2</td>\n      <td>13118.0</td>\n      <td>1</td>\n      <td>0</td>\n      <td>0</td>\n      <td>0</td>\n      <td>0</td>\n      <td>0</td>\n      <td>0</td>\n    </tr>\n    <tr>\n      <th>1</th>\n      <td>2022-02-14</td>\n      <td>5</td>\n      <td>1</td>\n      <td>2</td>\n      <td>2</td>\n      <td>7.78</td>\n      <td>3</td>\n      <td>87.3125</td>\n      <td>-1.9375</td>\n      <td>749.3125</td>\n      <td>...</td>\n      <td>12.5</td>\n      <td>16.1</td>\n      <td>13118.0</td>\n      <td>1</td>\n      <td>0</td>\n      <td>0</td>\n      <td>0</td>\n      <td>0</td>\n      <td>0</td>\n      <td>0</td>\n    </tr>\n    <tr>\n      <th>2</th>\n      <td>2022-02-14</td>\n      <td>5</td>\n      <td>1</td>\n      <td>1</td>\n      <td>4</td>\n      <td>8.15</td>\n      <td>3</td>\n      <td>87.3125</td>\n      <td>-1.9375</td>\n      <td>749.3125</td>\n      <td>...</td>\n      <td>6.5</td>\n      <td>8.2</td>\n      <td>13118.0</td>\n      <td>1</td>\n      <td>0</td>\n      <td>0</td>\n      <td>0</td>\n      <td>0</td>\n      <td>0</td>\n      <td>0</td>\n    </tr>\n    <tr>\n      <th>3</th>\n      <td>2022-02-14</td>\n      <td>5</td>\n      <td>1</td>\n      <td>2</td>\n      <td>5</td>\n      <td>11.25</td>\n      <td>3</td>\n      <td>87.3125</td>\n      <td>-1.9375</td>\n      <td>749.3125</td>\n      <td>...</td>\n      <td>14.1</td>\n      <td>17.3</td>\n      <td>13118.0</td>\n      <td>1</td>\n      <td>0</td>\n      <td>0</td>\n      <td>0</td>\n      <td>0</td>\n      <td>0</td>\n      <td>0</td>\n    </tr>\n    <tr>\n      <th>4</th>\n      <td>2022-02-14</td>\n      <td>5</td>\n      <td>1</td>\n      <td>2</td>\n      <td>7</td>\n      <td>12.15</td>\n      <td>3</td>\n      <td>87.3125</td>\n      <td>-1.9375</td>\n      <td>749.3125</td>\n      <td>...</td>\n      <td>5.0</td>\n      <td>6.1</td>\n      <td>13118.0</td>\n      <td>1</td>\n      <td>0</td>\n      <td>0</td>\n      <td>0</td>\n      <td>0</td>\n      <td>0</td>\n      <td>0</td>\n    </tr>\n    <tr>\n      <th>...</th>\n      <td>...</td>\n      <td>...</td>\n      <td>...</td>\n      <td>...</td>\n      <td>...</td>\n      <td>...</td>\n      <td>...</td>\n      <td>...</td>\n      <td>...</td>\n      <td>...</td>\n      <td>...</td>\n      <td>...</td>\n      <td>...</td>\n      <td>...</td>\n      <td>...</td>\n      <td>...</td>\n      <td>...</td>\n      <td>...</td>\n      <td>...</td>\n      <td>...</td>\n      <td>...</td>\n    </tr>\n    <tr>\n      <th>24831</th>\n      <td>2022-02-20</td>\n      <td>1</td>\n      <td>164</td>\n      <td>1</td>\n      <td>29</td>\n      <td>6.02</td>\n      <td>9</td>\n      <td>76.2500</td>\n      <td>3.4375</td>\n      <td>742.3750</td>\n      <td>...</td>\n      <td>1.6</td>\n      <td>1.7</td>\n      <td>3610.0</td>\n      <td>0</td>\n      <td>0</td>\n      <td>0</td>\n      <td>0</td>\n      <td>0</td>\n      <td>0</td>\n      <td>1</td>\n    </tr>\n    <tr>\n      <th>24832</th>\n      <td>2022-02-20</td>\n      <td>1</td>\n      <td>164</td>\n      <td>1</td>\n      <td>30</td>\n      <td>2.49</td>\n      <td>9</td>\n      <td>76.2500</td>\n      <td>3.4375</td>\n      <td>742.3750</td>\n      <td>...</td>\n      <td>18.5</td>\n      <td>22.1</td>\n      <td>3610.0</td>\n      <td>0</td>\n      <td>0</td>\n      <td>0</td>\n      <td>0</td>\n      <td>0</td>\n      <td>0</td>\n      <td>1</td>\n    </tr>\n    <tr>\n      <th>24833</th>\n      <td>2022-02-20</td>\n      <td>1</td>\n      <td>164</td>\n      <td>1</td>\n      <td>33</td>\n      <td>3.00</td>\n      <td>9</td>\n      <td>76.2500</td>\n      <td>3.4375</td>\n      <td>742.3750</td>\n      <td>...</td>\n      <td>3.0</td>\n      <td>3.5</td>\n      <td>3610.0</td>\n      <td>0</td>\n      <td>0</td>\n      <td>0</td>\n      <td>0</td>\n      <td>0</td>\n      <td>0</td>\n      <td>1</td>\n    </tr>\n    <tr>\n      <th>24834</th>\n      <td>2022-02-20</td>\n      <td>1</td>\n      <td>164</td>\n      <td>1</td>\n      <td>34</td>\n      <td>3.80</td>\n      <td>9</td>\n      <td>76.2500</td>\n      <td>3.4375</td>\n      <td>742.3750</td>\n      <td>...</td>\n      <td>4.9</td>\n      <td>5.8</td>\n      <td>3610.0</td>\n      <td>0</td>\n      <td>0</td>\n      <td>0</td>\n      <td>0</td>\n      <td>0</td>\n      <td>0</td>\n      <td>1</td>\n    </tr>\n    <tr>\n      <th>24835</th>\n      <td>2022-02-20</td>\n      <td>1</td>\n      <td>164</td>\n      <td>1</td>\n      <td>35</td>\n      <td>2.48</td>\n      <td>9</td>\n      <td>76.2500</td>\n      <td>3.4375</td>\n      <td>742.3750</td>\n      <td>...</td>\n      <td>18.3</td>\n      <td>20.8</td>\n      <td>3610.0</td>\n      <td>0</td>\n      <td>0</td>\n      <td>0</td>\n      <td>0</td>\n      <td>0</td>\n      <td>0</td>\n      <td>1</td>\n    </tr>\n  </tbody>\n</table>\n<p>24836 rows × 47 columns</p>\n</div>"
     },
     "execution_count": 355,
     "metadata": {},
     "output_type": "execute_result"
    }
   ],
   "source": [
    "test_df"
   ],
   "metadata": {
    "collapsed": false,
    "pycharm": {
     "name": "#%%\n"
    }
   }
  },
  {
   "cell_type": "code",
   "execution_count": 356,
   "outputs": [
    {
     "data": {
      "text/plain": "             date  city_name  store_id  category_id  product_id  price  \\\n0      2021-07-29          5         1            1           1   4.79   \n1      2021-07-29          5         1            2           2   7.78   \n2      2021-07-29          5         1            1           4   8.15   \n3      2021-07-29          5         1            2           5  11.25   \n4      2021-07-29          5         1            1           8   2.39   \n...           ...        ...       ...          ...         ...    ...   \n666671 2022-02-13          1       164            1          29   6.02   \n666672 2022-02-13          1       164            1          30   2.49   \n666673 2022-02-13          1       164            1          33   3.00   \n666674 2022-02-13          1       164            1          34   3.80   \n666675 2022-02-13          1       164            1          35   2.48   \n\n        weather_desc  humidity  temperature  pressure  ...  2_weeks_mean  \\\n0                 12   61.9375      23.1875  741.0000  ...          26.0   \n1                 12   61.9375      23.1875  741.0000  ...           8.0   \n2                 12   61.9375      23.1875  741.0000  ...          14.0   \n3                 12   61.9375      23.1875  741.0000  ...          25.0   \n4                 12   61.9375      23.1875  741.0000  ...          29.0   \n...              ...       ...          ...       ...  ...           ...   \n666671             9   85.9375      -4.8750  755.3125  ...           2.1   \n666672             9   85.9375      -4.8750  755.3125  ...          21.1   \n666673             9   85.9375      -4.8750  755.3125  ...           2.7   \n666674             9   85.9375      -4.8750  755.3125  ...           6.4   \n666675             9   85.9375      -4.8750  755.3125  ...          15.4   \n\n        3_weeks_mean orders_sum  wd_0  wd_1  wd_2  wd_3  wd_4  wd_5  wd_6  \n0               31.2    11437.0     0     0     0     1     0     0     0  \n1                9.6    11437.0     0     0     0     1     0     0     0  \n2               16.8    11437.0     0     0     0     1     0     0     0  \n3               30.0    11437.0     0     0     0     1     0     0     0  \n4               34.8    11437.0     0     0     0     1     0     0     0  \n...              ...        ...   ...   ...   ...   ...   ...   ...   ...  \n666671           3.0     3508.0     0     0     0     0     0     0     1  \n666672          26.6     3508.0     0     0     0     0     0     0     1  \n666673           3.4     3508.0     0     0     0     0     0     0     1  \n666674           7.4     3508.0     0     0     0     0     0     0     1  \n666675          18.2     3508.0     0     0     0     0     0     0     1  \n\n[666676 rows x 47 columns]",
      "text/html": "<div>\n<style scoped>\n    .dataframe tbody tr th:only-of-type {\n        vertical-align: middle;\n    }\n\n    .dataframe tbody tr th {\n        vertical-align: top;\n    }\n\n    .dataframe thead th {\n        text-align: right;\n    }\n</style>\n<table border=\"1\" class=\"dataframe\">\n  <thead>\n    <tr style=\"text-align: right;\">\n      <th></th>\n      <th>date</th>\n      <th>city_name</th>\n      <th>store_id</th>\n      <th>category_id</th>\n      <th>product_id</th>\n      <th>price</th>\n      <th>weather_desc</th>\n      <th>humidity</th>\n      <th>temperature</th>\n      <th>pressure</th>\n      <th>...</th>\n      <th>2_weeks_mean</th>\n      <th>3_weeks_mean</th>\n      <th>orders_sum</th>\n      <th>wd_0</th>\n      <th>wd_1</th>\n      <th>wd_2</th>\n      <th>wd_3</th>\n      <th>wd_4</th>\n      <th>wd_5</th>\n      <th>wd_6</th>\n    </tr>\n  </thead>\n  <tbody>\n    <tr>\n      <th>0</th>\n      <td>2021-07-29</td>\n      <td>5</td>\n      <td>1</td>\n      <td>1</td>\n      <td>1</td>\n      <td>4.79</td>\n      <td>12</td>\n      <td>61.9375</td>\n      <td>23.1875</td>\n      <td>741.0000</td>\n      <td>...</td>\n      <td>26.0</td>\n      <td>31.2</td>\n      <td>11437.0</td>\n      <td>0</td>\n      <td>0</td>\n      <td>0</td>\n      <td>1</td>\n      <td>0</td>\n      <td>0</td>\n      <td>0</td>\n    </tr>\n    <tr>\n      <th>1</th>\n      <td>2021-07-29</td>\n      <td>5</td>\n      <td>1</td>\n      <td>2</td>\n      <td>2</td>\n      <td>7.78</td>\n      <td>12</td>\n      <td>61.9375</td>\n      <td>23.1875</td>\n      <td>741.0000</td>\n      <td>...</td>\n      <td>8.0</td>\n      <td>9.6</td>\n      <td>11437.0</td>\n      <td>0</td>\n      <td>0</td>\n      <td>0</td>\n      <td>1</td>\n      <td>0</td>\n      <td>0</td>\n      <td>0</td>\n    </tr>\n    <tr>\n      <th>2</th>\n      <td>2021-07-29</td>\n      <td>5</td>\n      <td>1</td>\n      <td>1</td>\n      <td>4</td>\n      <td>8.15</td>\n      <td>12</td>\n      <td>61.9375</td>\n      <td>23.1875</td>\n      <td>741.0000</td>\n      <td>...</td>\n      <td>14.0</td>\n      <td>16.8</td>\n      <td>11437.0</td>\n      <td>0</td>\n      <td>0</td>\n      <td>0</td>\n      <td>1</td>\n      <td>0</td>\n      <td>0</td>\n      <td>0</td>\n    </tr>\n    <tr>\n      <th>3</th>\n      <td>2021-07-29</td>\n      <td>5</td>\n      <td>1</td>\n      <td>2</td>\n      <td>5</td>\n      <td>11.25</td>\n      <td>12</td>\n      <td>61.9375</td>\n      <td>23.1875</td>\n      <td>741.0000</td>\n      <td>...</td>\n      <td>25.0</td>\n      <td>30.0</td>\n      <td>11437.0</td>\n      <td>0</td>\n      <td>0</td>\n      <td>0</td>\n      <td>1</td>\n      <td>0</td>\n      <td>0</td>\n      <td>0</td>\n    </tr>\n    <tr>\n      <th>4</th>\n      <td>2021-07-29</td>\n      <td>5</td>\n      <td>1</td>\n      <td>1</td>\n      <td>8</td>\n      <td>2.39</td>\n      <td>12</td>\n      <td>61.9375</td>\n      <td>23.1875</td>\n      <td>741.0000</td>\n      <td>...</td>\n      <td>29.0</td>\n      <td>34.8</td>\n      <td>11437.0</td>\n      <td>0</td>\n      <td>0</td>\n      <td>0</td>\n      <td>1</td>\n      <td>0</td>\n      <td>0</td>\n      <td>0</td>\n    </tr>\n    <tr>\n      <th>...</th>\n      <td>...</td>\n      <td>...</td>\n      <td>...</td>\n      <td>...</td>\n      <td>...</td>\n      <td>...</td>\n      <td>...</td>\n      <td>...</td>\n      <td>...</td>\n      <td>...</td>\n      <td>...</td>\n      <td>...</td>\n      <td>...</td>\n      <td>...</td>\n      <td>...</td>\n      <td>...</td>\n      <td>...</td>\n      <td>...</td>\n      <td>...</td>\n      <td>...</td>\n      <td>...</td>\n    </tr>\n    <tr>\n      <th>666671</th>\n      <td>2022-02-13</td>\n      <td>1</td>\n      <td>164</td>\n      <td>1</td>\n      <td>29</td>\n      <td>6.02</td>\n      <td>9</td>\n      <td>85.9375</td>\n      <td>-4.8750</td>\n      <td>755.3125</td>\n      <td>...</td>\n      <td>2.1</td>\n      <td>3.0</td>\n      <td>3508.0</td>\n      <td>0</td>\n      <td>0</td>\n      <td>0</td>\n      <td>0</td>\n      <td>0</td>\n      <td>0</td>\n      <td>1</td>\n    </tr>\n    <tr>\n      <th>666672</th>\n      <td>2022-02-13</td>\n      <td>1</td>\n      <td>164</td>\n      <td>1</td>\n      <td>30</td>\n      <td>2.49</td>\n      <td>9</td>\n      <td>85.9375</td>\n      <td>-4.8750</td>\n      <td>755.3125</td>\n      <td>...</td>\n      <td>21.1</td>\n      <td>26.6</td>\n      <td>3508.0</td>\n      <td>0</td>\n      <td>0</td>\n      <td>0</td>\n      <td>0</td>\n      <td>0</td>\n      <td>0</td>\n      <td>1</td>\n    </tr>\n    <tr>\n      <th>666673</th>\n      <td>2022-02-13</td>\n      <td>1</td>\n      <td>164</td>\n      <td>1</td>\n      <td>33</td>\n      <td>3.00</td>\n      <td>9</td>\n      <td>85.9375</td>\n      <td>-4.8750</td>\n      <td>755.3125</td>\n      <td>...</td>\n      <td>2.7</td>\n      <td>3.4</td>\n      <td>3508.0</td>\n      <td>0</td>\n      <td>0</td>\n      <td>0</td>\n      <td>0</td>\n      <td>0</td>\n      <td>0</td>\n      <td>1</td>\n    </tr>\n    <tr>\n      <th>666674</th>\n      <td>2022-02-13</td>\n      <td>1</td>\n      <td>164</td>\n      <td>1</td>\n      <td>34</td>\n      <td>3.80</td>\n      <td>9</td>\n      <td>85.9375</td>\n      <td>-4.8750</td>\n      <td>755.3125</td>\n      <td>...</td>\n      <td>6.4</td>\n      <td>7.4</td>\n      <td>3508.0</td>\n      <td>0</td>\n      <td>0</td>\n      <td>0</td>\n      <td>0</td>\n      <td>0</td>\n      <td>0</td>\n      <td>1</td>\n    </tr>\n    <tr>\n      <th>666675</th>\n      <td>2022-02-13</td>\n      <td>1</td>\n      <td>164</td>\n      <td>1</td>\n      <td>35</td>\n      <td>2.48</td>\n      <td>9</td>\n      <td>85.9375</td>\n      <td>-4.8750</td>\n      <td>755.3125</td>\n      <td>...</td>\n      <td>15.4</td>\n      <td>18.2</td>\n      <td>3508.0</td>\n      <td>0</td>\n      <td>0</td>\n      <td>0</td>\n      <td>0</td>\n      <td>0</td>\n      <td>0</td>\n      <td>1</td>\n    </tr>\n  </tbody>\n</table>\n<p>666676 rows × 47 columns</p>\n</div>"
     },
     "execution_count": 356,
     "metadata": {},
     "output_type": "execute_result"
    }
   ],
   "source": [
    "train_df"
   ],
   "metadata": {
    "collapsed": false,
    "pycharm": {
     "name": "#%%\n"
    }
   }
  },
  {
   "cell_type": "code",
   "execution_count": 357,
   "outputs": [],
   "source": [
    "from sklearn.preprocessing import StandardScaler"
   ],
   "metadata": {
    "collapsed": false,
    "pycharm": {
     "name": "#%%\n"
    }
   }
  },
  {
   "cell_type": "code",
   "execution_count": 358,
   "outputs": [
    {
     "data": {
      "text/plain": "['date',\n 'city_name',\n 'store_id',\n 'category_id',\n 'product_id',\n 'price',\n 'weather_desc',\n 'humidity',\n 'temperature',\n 'pressure',\n 'sales',\n 'test_id',\n 'type',\n 'weekday',\n 'weekend',\n 'lag_day_7',\n 'lag_day_8',\n 'lag_day_9',\n 'lag_day_10',\n 'lag_day_11',\n 'lag_day_12',\n 'lag_day_13',\n 'lag_day_14',\n 'lag_day_15',\n 'lag_day_16',\n 'lag_day_17',\n 'lag_day_18',\n 'lag_day_19',\n 'lag_day_20',\n 'lag_day_21',\n 'lag_day_22',\n 'lag_day_23',\n 'lag_day_24',\n 'lag_day_25',\n 'lag_day_26',\n 'lag_day_27',\n 'lag_day_28',\n '2_weeks_mean',\n '3_weeks_mean',\n 'orders_sum',\n 'wd_0',\n 'wd_1',\n 'wd_2',\n 'wd_3',\n 'wd_4',\n 'wd_5',\n 'wd_6']"
     },
     "execution_count": 358,
     "metadata": {},
     "output_type": "execute_result"
    }
   ],
   "source": [
    "list(train_df.columns)"
   ],
   "metadata": {
    "collapsed": false,
    "pycharm": {
     "name": "#%%\n"
    }
   }
  },
  {
   "cell_type": "code",
   "execution_count": 359,
   "outputs": [],
   "source": [
    "# числовые фичи\n",
    "num_features = ['lag_day_7', 'lag_day_8', 'lag_day_9', 'lag_day_10','lag_day_11', 'lag_day_12',\n",
    "                'lag_day_13', 'lag_day_14', 'lag_day_15', 'lag_day_16', 'lag_day_17', 'lag_day_18','lag_day_19', 'lag_day_20',\n",
    "                'lag_day_21', 'lag_day_22', 'lag_day_23', 'lag_day_24', \"lag_day_25\", 'lag_day_26', 'lag_day_27', 'lag_day_28', \"2_weeks_mean\", \"3_weeks_mean\", 'orders_sum', \"pressure\", \"temperature\", \"humidity\", \"price\"]\n",
    "# категориальные фичи\n",
    "cat_features = ['weekend', \"weekday\", \"category_id\", 'wd_0',\n",
    " 'wd_1',\n",
    " 'wd_2',\n",
    " 'wd_3',\n",
    " 'wd_4',\n",
    " 'wd_5',\n",
    " 'wd_6',\n",
    " \"weather_desc\", \"product_id\", \"store_id\", \"city_name\"]\n",
    "\n",
    "# таргеты\n",
    "y_train = train_df.sales\n",
    "y_test = test_df.sales\n",
    "\n",
    "# категориальные фичи\n",
    "X_train_cat = train_df[cat_features].values\n",
    "X_test_cat = test_df[cat_features].values\n",
    "\n",
    "# скалируем числовые фичи\n",
    "X_train_num = train_df[num_features].copy()\n",
    "X_test_num = test_df[num_features].copy()\n",
    "scaler = StandardScaler()\n",
    "X_train_num = scaler.fit_transform(X_train_num)\n",
    "X_test_num = scaler.transform(X_test_num)\n",
    "\n",
    "# итоговые датасеты для обучения\n",
    "X_train = np.hstack((X_train_cat, X_train_num))\n",
    "X_test = np.hstack((X_test_cat, X_test_num))"
   ],
   "metadata": {
    "collapsed": false,
    "pycharm": {
     "name": "#%%\n"
    }
   }
  },
  {
   "cell_type": "code",
   "execution_count": 360,
   "outputs": [
    {
     "data": {
      "text/plain": "array([[ 0.        ,  0.        ,  1.        , ..., -0.58679867,\n         0.63972043, -0.07796756],\n       [ 0.        ,  0.        ,  2.        , ..., -0.58679867,\n         0.63972043,  0.80613518],\n       [ 0.        ,  0.        ,  1.        , ..., -0.58679867,\n         0.63972043,  0.9155392 ],\n       ...,\n       [ 1.        ,  6.        ,  1.        , ..., -0.12507206,\n         0.09619816, -0.60724646],\n       [ 1.        ,  6.        ,  1.        , ..., -0.12507206,\n         0.09619816, -0.37069723],\n       [ 1.        ,  6.        ,  1.        , ..., -0.12507206,\n         0.09619816, -0.76100346]])"
     },
     "execution_count": 360,
     "metadata": {},
     "output_type": "execute_result"
    }
   ],
   "source": [
    "X_test"
   ],
   "metadata": {
    "collapsed": false,
    "pycharm": {
     "name": "#%%\n"
    }
   }
  },
  {
   "cell_type": "code",
   "execution_count": 361,
   "outputs": [],
   "source": [
    "from sklearn.model_selection import GridSearchCV, TimeSeriesSplit, cross_val_score\n",
    "from sklearn.linear_model import LinearRegression\n",
    "from sklearn.svm import SVR"
   ],
   "metadata": {
    "collapsed": false,
    "pycharm": {
     "name": "#%%\n"
    }
   }
  },
  {
   "cell_type": "code",
   "execution_count": 362,
   "outputs": [
    {
     "name": "stdout",
     "output_type": "stream",
     "text": [
      "LR: 0.810129 (0.026461)\n"
     ]
    }
   ],
   "source": [
    "models = []\n",
    "models.append(('LR', LinearRegression()))\n",
    "#models.append(('SVR', SVR()))\n",
    "results = []\n",
    "model_names = []\n",
    "for name, model in models:\n",
    "    # TimeSeries Cross validation\n",
    "    tscv = TimeSeriesSplit(n_splits=4)\n",
    "    cv_results = cross_val_score(model, X_train, y_train, cv=tscv, scoring='r2')\n",
    "    results.append(cv_results)\n",
    "    model_names.append(name)\n",
    "    print('%s: %f (%f)' % (name, cv_results.mean(), cv_results.std()))"
   ],
   "metadata": {
    "collapsed": false,
    "pycharm": {
     "name": "#%%\n"
    }
   }
  },
  {
   "cell_type": "code",
   "execution_count": 363,
   "outputs": [
    {
     "data": {
      "text/plain": "            date  city_name  store_id  category_id  product_id  price  \\\n0     2022-02-14          5         1            1           1   4.79   \n1     2022-02-14          5         1            2           2   7.78   \n2     2022-02-14          5         1            1           4   8.15   \n3     2022-02-14          5         1            2           5  11.25   \n4     2022-02-14          5         1            2           7  12.15   \n...          ...        ...       ...          ...         ...    ...   \n24831 2022-02-20          1       164            1          29   6.02   \n24832 2022-02-20          1       164            1          30   2.49   \n24833 2022-02-20          1       164            1          33   3.00   \n24834 2022-02-20          1       164            1          34   3.80   \n24835 2022-02-20          1       164            1          35   2.48   \n\n       weather_desc  humidity  temperature  pressure  ...  3_weeks_mean  \\\n0                 3   87.3125      -1.9375  749.3125  ...          27.2   \n1                 3   87.3125      -1.9375  749.3125  ...          16.1   \n2                 3   87.3125      -1.9375  749.3125  ...           8.2   \n3                 3   87.3125      -1.9375  749.3125  ...          17.3   \n4                 3   87.3125      -1.9375  749.3125  ...           6.1   \n...             ...       ...          ...       ...  ...           ...   \n24831             9   76.2500       3.4375  742.3750  ...           1.7   \n24832             9   76.2500       3.4375  742.3750  ...          22.1   \n24833             9   76.2500       3.4375  742.3750  ...           3.5   \n24834             9   76.2500       3.4375  742.3750  ...           5.8   \n24835             9   76.2500       3.4375  742.3750  ...          20.8   \n\n       orders_sum wd_0  wd_1  wd_2  wd_3  wd_4  wd_5  wd_6  forecast_lr  \n0         13118.0    1     0     0     0     0     0     0    26.888458  \n1         13118.0    1     0     0     0     0     0     0    15.585396  \n2         13118.0    1     0     0     0     0     0     0    10.429759  \n3         13118.0    1     0     0     0     0     0     0    16.610662  \n4         13118.0    1     0     0     0     0     0     0     6.185910  \n...           ...  ...   ...   ...   ...   ...   ...   ...          ...  \n24831      3610.0    0     0     0     0     0     0     1     3.547469  \n24832      3610.0    0     0     0     0     0     0     1    21.387309  \n24833      3610.0    0     0     0     0     0     0     1     3.912667  \n24834      3610.0    0     0     0     0     0     0     1     6.797950  \n24835      3610.0    0     0     0     0     0     0     1    14.067371  \n\n[24836 rows x 48 columns]",
      "text/html": "<div>\n<style scoped>\n    .dataframe tbody tr th:only-of-type {\n        vertical-align: middle;\n    }\n\n    .dataframe tbody tr th {\n        vertical-align: top;\n    }\n\n    .dataframe thead th {\n        text-align: right;\n    }\n</style>\n<table border=\"1\" class=\"dataframe\">\n  <thead>\n    <tr style=\"text-align: right;\">\n      <th></th>\n      <th>date</th>\n      <th>city_name</th>\n      <th>store_id</th>\n      <th>category_id</th>\n      <th>product_id</th>\n      <th>price</th>\n      <th>weather_desc</th>\n      <th>humidity</th>\n      <th>temperature</th>\n      <th>pressure</th>\n      <th>...</th>\n      <th>3_weeks_mean</th>\n      <th>orders_sum</th>\n      <th>wd_0</th>\n      <th>wd_1</th>\n      <th>wd_2</th>\n      <th>wd_3</th>\n      <th>wd_4</th>\n      <th>wd_5</th>\n      <th>wd_6</th>\n      <th>forecast_lr</th>\n    </tr>\n  </thead>\n  <tbody>\n    <tr>\n      <th>0</th>\n      <td>2022-02-14</td>\n      <td>5</td>\n      <td>1</td>\n      <td>1</td>\n      <td>1</td>\n      <td>4.79</td>\n      <td>3</td>\n      <td>87.3125</td>\n      <td>-1.9375</td>\n      <td>749.3125</td>\n      <td>...</td>\n      <td>27.2</td>\n      <td>13118.0</td>\n      <td>1</td>\n      <td>0</td>\n      <td>0</td>\n      <td>0</td>\n      <td>0</td>\n      <td>0</td>\n      <td>0</td>\n      <td>26.888458</td>\n    </tr>\n    <tr>\n      <th>1</th>\n      <td>2022-02-14</td>\n      <td>5</td>\n      <td>1</td>\n      <td>2</td>\n      <td>2</td>\n      <td>7.78</td>\n      <td>3</td>\n      <td>87.3125</td>\n      <td>-1.9375</td>\n      <td>749.3125</td>\n      <td>...</td>\n      <td>16.1</td>\n      <td>13118.0</td>\n      <td>1</td>\n      <td>0</td>\n      <td>0</td>\n      <td>0</td>\n      <td>0</td>\n      <td>0</td>\n      <td>0</td>\n      <td>15.585396</td>\n    </tr>\n    <tr>\n      <th>2</th>\n      <td>2022-02-14</td>\n      <td>5</td>\n      <td>1</td>\n      <td>1</td>\n      <td>4</td>\n      <td>8.15</td>\n      <td>3</td>\n      <td>87.3125</td>\n      <td>-1.9375</td>\n      <td>749.3125</td>\n      <td>...</td>\n      <td>8.2</td>\n      <td>13118.0</td>\n      <td>1</td>\n      <td>0</td>\n      <td>0</td>\n      <td>0</td>\n      <td>0</td>\n      <td>0</td>\n      <td>0</td>\n      <td>10.429759</td>\n    </tr>\n    <tr>\n      <th>3</th>\n      <td>2022-02-14</td>\n      <td>5</td>\n      <td>1</td>\n      <td>2</td>\n      <td>5</td>\n      <td>11.25</td>\n      <td>3</td>\n      <td>87.3125</td>\n      <td>-1.9375</td>\n      <td>749.3125</td>\n      <td>...</td>\n      <td>17.3</td>\n      <td>13118.0</td>\n      <td>1</td>\n      <td>0</td>\n      <td>0</td>\n      <td>0</td>\n      <td>0</td>\n      <td>0</td>\n      <td>0</td>\n      <td>16.610662</td>\n    </tr>\n    <tr>\n      <th>4</th>\n      <td>2022-02-14</td>\n      <td>5</td>\n      <td>1</td>\n      <td>2</td>\n      <td>7</td>\n      <td>12.15</td>\n      <td>3</td>\n      <td>87.3125</td>\n      <td>-1.9375</td>\n      <td>749.3125</td>\n      <td>...</td>\n      <td>6.1</td>\n      <td>13118.0</td>\n      <td>1</td>\n      <td>0</td>\n      <td>0</td>\n      <td>0</td>\n      <td>0</td>\n      <td>0</td>\n      <td>0</td>\n      <td>6.185910</td>\n    </tr>\n    <tr>\n      <th>...</th>\n      <td>...</td>\n      <td>...</td>\n      <td>...</td>\n      <td>...</td>\n      <td>...</td>\n      <td>...</td>\n      <td>...</td>\n      <td>...</td>\n      <td>...</td>\n      <td>...</td>\n      <td>...</td>\n      <td>...</td>\n      <td>...</td>\n      <td>...</td>\n      <td>...</td>\n      <td>...</td>\n      <td>...</td>\n      <td>...</td>\n      <td>...</td>\n      <td>...</td>\n      <td>...</td>\n    </tr>\n    <tr>\n      <th>24831</th>\n      <td>2022-02-20</td>\n      <td>1</td>\n      <td>164</td>\n      <td>1</td>\n      <td>29</td>\n      <td>6.02</td>\n      <td>9</td>\n      <td>76.2500</td>\n      <td>3.4375</td>\n      <td>742.3750</td>\n      <td>...</td>\n      <td>1.7</td>\n      <td>3610.0</td>\n      <td>0</td>\n      <td>0</td>\n      <td>0</td>\n      <td>0</td>\n      <td>0</td>\n      <td>0</td>\n      <td>1</td>\n      <td>3.547469</td>\n    </tr>\n    <tr>\n      <th>24832</th>\n      <td>2022-02-20</td>\n      <td>1</td>\n      <td>164</td>\n      <td>1</td>\n      <td>30</td>\n      <td>2.49</td>\n      <td>9</td>\n      <td>76.2500</td>\n      <td>3.4375</td>\n      <td>742.3750</td>\n      <td>...</td>\n      <td>22.1</td>\n      <td>3610.0</td>\n      <td>0</td>\n      <td>0</td>\n      <td>0</td>\n      <td>0</td>\n      <td>0</td>\n      <td>0</td>\n      <td>1</td>\n      <td>21.387309</td>\n    </tr>\n    <tr>\n      <th>24833</th>\n      <td>2022-02-20</td>\n      <td>1</td>\n      <td>164</td>\n      <td>1</td>\n      <td>33</td>\n      <td>3.00</td>\n      <td>9</td>\n      <td>76.2500</td>\n      <td>3.4375</td>\n      <td>742.3750</td>\n      <td>...</td>\n      <td>3.5</td>\n      <td>3610.0</td>\n      <td>0</td>\n      <td>0</td>\n      <td>0</td>\n      <td>0</td>\n      <td>0</td>\n      <td>0</td>\n      <td>1</td>\n      <td>3.912667</td>\n    </tr>\n    <tr>\n      <th>24834</th>\n      <td>2022-02-20</td>\n      <td>1</td>\n      <td>164</td>\n      <td>1</td>\n      <td>34</td>\n      <td>3.80</td>\n      <td>9</td>\n      <td>76.2500</td>\n      <td>3.4375</td>\n      <td>742.3750</td>\n      <td>...</td>\n      <td>5.8</td>\n      <td>3610.0</td>\n      <td>0</td>\n      <td>0</td>\n      <td>0</td>\n      <td>0</td>\n      <td>0</td>\n      <td>0</td>\n      <td>1</td>\n      <td>6.797950</td>\n    </tr>\n    <tr>\n      <th>24835</th>\n      <td>2022-02-20</td>\n      <td>1</td>\n      <td>164</td>\n      <td>1</td>\n      <td>35</td>\n      <td>2.48</td>\n      <td>9</td>\n      <td>76.2500</td>\n      <td>3.4375</td>\n      <td>742.3750</td>\n      <td>...</td>\n      <td>20.8</td>\n      <td>3610.0</td>\n      <td>0</td>\n      <td>0</td>\n      <td>0</td>\n      <td>0</td>\n      <td>0</td>\n      <td>0</td>\n      <td>1</td>\n      <td>14.067371</td>\n    </tr>\n  </tbody>\n</table>\n<p>24836 rows × 48 columns</p>\n</div>"
     },
     "execution_count": 363,
     "metadata": {},
     "output_type": "execute_result"
    }
   ],
   "source": [
    "model = LinearRegression()\n",
    "model.fit(X_train, y_train)\n",
    "\n",
    "forecast = model.predict(X_test)\n",
    "test_df['forecast_lr'] = forecast\n",
    "test_df\n",
    "\n",
    "# Обучаем SVR\n",
    "#model = SVR()\n",
    "#model.fit(X_train, y_train)\n",
    "#forecast = model.predict(X_test)\n",
    "#test_df['forecast_svr'] = forecast"
   ],
   "metadata": {
    "collapsed": false,
    "pycharm": {
     "name": "#%%\n"
    }
   }
  },
  {
   "cell_type": "code",
   "execution_count": 364,
   "outputs": [
    {
     "data": {
      "text/plain": "Empty DataFrame\nColumns: [date, city_name, store_id, category_id, product_id, price, weather_desc, humidity, temperature, pressure, sales, test_id, type, weekday, weekend, lag_day_7, lag_day_8, lag_day_9, lag_day_10, lag_day_11, lag_day_12, lag_day_13, lag_day_14, lag_day_15, lag_day_16, lag_day_17, lag_day_18, lag_day_19, lag_day_20, lag_day_21, lag_day_22, lag_day_23, lag_day_24, lag_day_25, lag_day_26, lag_day_27, lag_day_28, 2_weeks_mean, 3_weeks_mean, orders_sum, wd_0, wd_1, wd_2, wd_3, wd_4, wd_5, wd_6, forecast_lr]\nIndex: []\n\n[0 rows x 48 columns]",
      "text/html": "<div>\n<style scoped>\n    .dataframe tbody tr th:only-of-type {\n        vertical-align: middle;\n    }\n\n    .dataframe tbody tr th {\n        vertical-align: top;\n    }\n\n    .dataframe thead th {\n        text-align: right;\n    }\n</style>\n<table border=\"1\" class=\"dataframe\">\n  <thead>\n    <tr style=\"text-align: right;\">\n      <th></th>\n      <th>date</th>\n      <th>city_name</th>\n      <th>store_id</th>\n      <th>category_id</th>\n      <th>product_id</th>\n      <th>price</th>\n      <th>weather_desc</th>\n      <th>humidity</th>\n      <th>temperature</th>\n      <th>pressure</th>\n      <th>...</th>\n      <th>3_weeks_mean</th>\n      <th>orders_sum</th>\n      <th>wd_0</th>\n      <th>wd_1</th>\n      <th>wd_2</th>\n      <th>wd_3</th>\n      <th>wd_4</th>\n      <th>wd_5</th>\n      <th>wd_6</th>\n      <th>forecast_lr</th>\n    </tr>\n  </thead>\n  <tbody>\n  </tbody>\n</table>\n<p>0 rows × 48 columns</p>\n</div>"
     },
     "execution_count": 364,
     "metadata": {},
     "output_type": "execute_result"
    }
   ],
   "source": [
    "test_df[np.isnan(test_df['forecast_lr'])]"
   ],
   "metadata": {
    "collapsed": false,
    "pycharm": {
     "name": "#%%\n"
    }
   }
  },
  {
   "cell_type": "code",
   "execution_count": 365,
   "outputs": [
    {
     "name": "stdout",
     "output_type": "stream",
     "text": [
      "MAE: 3.30\n",
      "MSE: 28.89\n",
      "MAPE: 25.23 %\n",
      "MASE: inf\n",
      "\n"
     ]
    },
    {
     "name": "stderr",
     "output_type": "stream",
     "text": [
      "/var/folders/w4/k5sf3slx0nx6x2vsbb6kf86w0000gn/T/ipykernel_87527/3510924087.py:34: RuntimeWarning: divide by zero encountered in double_scalars\n",
      "  mase = mae / mae_naive\n"
     ]
    }
   ],
   "source": [
    "from sklearn.metrics import mean_absolute_error, mean_squared_error\n",
    "\n",
    "def metric_mape(y_valid: list, val_pred: list) -> float:\n",
    "    \"\"\"\n",
    "    Calculate MAPE metric\n",
    "\n",
    "    :param y_valid: list, real values\n",
    "    :param val_pred: list, predicted values\n",
    "    :return: float, MAPE metric\n",
    "    \"\"\"\n",
    "    y_valid = np.array(y_valid).reshape(-1)\n",
    "    val_pred = np.array(val_pred)\n",
    "    return np.sum(np.abs(y_valid - val_pred)) / np.sum(y_valid) * 100\n",
    "\n",
    "def calculate_metrics(df: pd.DataFrame,\n",
    "                      forecast_name='forecast') -> (float, float, float,\n",
    "                                                    float, float, float):\n",
    "    \"\"\"\n",
    "    Calculate metrics\n",
    "\n",
    "    :param df: pd.DataFrame, result dataframe\n",
    "    :return:\n",
    "    \"\"\"\n",
    "    y_true = df.sales\n",
    "    y_pr = df[forecast_name]\n",
    "    y_naive = df.lag_day_7\n",
    "\n",
    "    mae = mean_absolute_error(y_true, y_pr)\n",
    "    mse = mean_squared_error(y_true, y_pr)\n",
    "    mae_naive = mean_absolute_error(y_true, y_naive)\n",
    "\n",
    "    mape = metric_mape(y_true, y_pr)\n",
    "\n",
    "    mase = mae / mae_naive\n",
    "\n",
    "    print(f\"MAE: {mae:.2f}\\n\"\n",
    "          f\"MSE: {mse:.2f}\\n\"\n",
    "          f\"MAPE: {mape:.2f} %\\n\"\n",
    "          f\"MASE: {mase:.2f}\\n\")\n",
    "\n",
    "\n",
    "calculate_metrics(test_df, forecast_name='forecast_lr')"
   ],
   "metadata": {
    "collapsed": false,
    "pycharm": {
     "name": "#%%\n"
    }
   }
  },
  {
   "cell_type": "code",
   "execution_count": 366,
   "outputs": [],
   "source": [
    "#calculate_metrics(test_df, forecast_name='forecast_svr')"
   ],
   "metadata": {
    "collapsed": false,
    "pycharm": {
     "name": "#%%\n"
    }
   }
  },
  {
   "cell_type": "code",
   "execution_count": 367,
   "outputs": [
    {
     "data": {
      "text/plain": "        prediction\nid                \n666677   26.888458\n666684   15.585396\n666691   10.429759\n666698   16.610662\n666705    6.185910\n...            ...\n691484    3.547469\n691491   21.387309\n691498    3.912667\n691505    6.797950\n691512   14.067371\n\n[24836 rows x 1 columns]",
      "text/html": "<div>\n<style scoped>\n    .dataframe tbody tr th:only-of-type {\n        vertical-align: middle;\n    }\n\n    .dataframe tbody tr th {\n        vertical-align: top;\n    }\n\n    .dataframe thead th {\n        text-align: right;\n    }\n</style>\n<table border=\"1\" class=\"dataframe\">\n  <thead>\n    <tr style=\"text-align: right;\">\n      <th></th>\n      <th>prediction</th>\n    </tr>\n    <tr>\n      <th>id</th>\n      <th></th>\n    </tr>\n  </thead>\n  <tbody>\n    <tr>\n      <th>666677</th>\n      <td>26.888458</td>\n    </tr>\n    <tr>\n      <th>666684</th>\n      <td>15.585396</td>\n    </tr>\n    <tr>\n      <th>666691</th>\n      <td>10.429759</td>\n    </tr>\n    <tr>\n      <th>666698</th>\n      <td>16.610662</td>\n    </tr>\n    <tr>\n      <th>666705</th>\n      <td>6.185910</td>\n    </tr>\n    <tr>\n      <th>...</th>\n      <td>...</td>\n    </tr>\n    <tr>\n      <th>691484</th>\n      <td>3.547469</td>\n    </tr>\n    <tr>\n      <th>691491</th>\n      <td>21.387309</td>\n    </tr>\n    <tr>\n      <th>691498</th>\n      <td>3.912667</td>\n    </tr>\n    <tr>\n      <th>691505</th>\n      <td>6.797950</td>\n    </tr>\n    <tr>\n      <th>691512</th>\n      <td>14.067371</td>\n    </tr>\n  </tbody>\n</table>\n<p>24836 rows × 1 columns</p>\n</div>"
     },
     "execution_count": 367,
     "metadata": {},
     "output_type": "execute_result"
    }
   ],
   "source": [
    "result = test_df[['forecast_lr', \"test_id\"]].copy().reset_index(drop=True)\n",
    "result.columns = [\"prediction\", \"id\"]\n",
    "result.index = result[\"id\"]\n",
    "del result[\"id\"]\n",
    "result.index.name = \"id\"\n",
    "result"
   ],
   "metadata": {
    "collapsed": false,
    "pycharm": {
     "name": "#%%\n"
    }
   }
  },
  {
   "cell_type": "code",
   "execution_count": 368,
   "outputs": [],
   "source": [
    "result.to_csv(\"../results/prediction.csv\")"
   ],
   "metadata": {
    "collapsed": false,
    "pycharm": {
     "name": "#%%\n"
    }
   }
  },
  {
   "cell_type": "code",
   "execution_count": 368,
   "outputs": [],
   "source": [],
   "metadata": {
    "collapsed": false,
    "pycharm": {
     "name": "#%%\n"
    }
   }
  }
 ],
 "metadata": {
  "kernelspec": {
   "display_name": "Python 3",
   "language": "python",
   "name": "python3"
  },
  "language_info": {
   "codemirror_mode": {
    "name": "ipython",
    "version": 2
   },
   "file_extension": ".py",
   "mimetype": "text/x-python",
   "name": "python",
   "nbconvert_exporter": "python",
   "pygments_lexer": "ipython2",
   "version": "2.7.6"
  }
 },
 "nbformat": 4,
 "nbformat_minor": 0
}